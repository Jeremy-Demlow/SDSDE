{
 "cells": [
  {
   "cell_type": "code",
   "execution_count": 2,
   "id": "technical-trigger",
   "metadata": {
    "ExecuteTime": {
     "end_time": "2022-02-01T23:58:17.072415Z",
     "start_time": "2022-02-01T23:58:17.011161Z"
    }
   },
   "outputs": [],
   "source": [
    "#default_exp modeling.trainingfastai"
   ]
  },
  {
   "cell_type": "code",
   "execution_count": 3,
   "id": "whole-poland",
   "metadata": {
    "ExecuteTime": {
     "end_time": "2022-02-01T23:58:20.365885Z",
     "start_time": "2022-02-01T23:58:17.590930Z"
    }
   },
   "outputs": [],
   "source": [
    "#hide\n",
    "from nbdev.showdoc import *\n",
    "from sklearn import datasets\n",
    "from sklearn.model_selection import train_test_split\n",
    "from sklearn.ensemble import RandomForestClassifier, RandomForestRegressor"
   ]
  },
  {
   "cell_type": "markdown",
   "id": "reduced-institution",
   "metadata": {},
   "source": [
    "# Training Functionality\n",
    "\n",
    "These functions are designed to help with anything in the training stage of the ML life cycle."
   ]
  },
  {
   "cell_type": "code",
   "execution_count": 4,
   "id": "charitable-certification",
   "metadata": {
    "ExecuteTime": {
     "end_time": "2022-02-01T23:58:22.903346Z",
     "start_time": "2022-02-01T23:58:20.418565Z"
    }
   },
   "outputs": [],
   "source": [
    "#export\n",
    "import os\n",
    "import logging\n",
    "import gc\n",
    "\n",
    "from sdsde.wrapper.azurewrapper import blob_pusher\n",
    "from fastai.basics import *\n",
    "from fastai.tabular.all import *\n",
    "\n",
    "logging.basicConfig(level=logging.INFO)\n",
    "logger = logging.getLogger(__name__)"
   ]
  },
  {
   "cell_type": "markdown",
   "id": "based-sample",
   "metadata": {},
   "source": [
    "## DL Basic Model Training"
   ]
  },
  {
   "cell_type": "markdown",
   "id": "ideal-reset",
   "metadata": {},
   "source": [
    "### ``train_fastai_tabular_model``"
   ]
  },
  {
   "cell_type": "code",
   "execution_count": 5,
   "id": "first-devon",
   "metadata": {
    "ExecuteTime": {
     "end_time": "2022-02-01T23:58:23.110885Z",
     "start_time": "2022-02-01T23:58:22.988620Z"
    }
   },
   "outputs": [],
   "source": [
    "#export\n",
    "\n",
    "\n",
    "def train_fastai_tabular_model(dl, layer_sizes: list, metrics: list,\n",
    "                               epochs: int, wd: float, save_metric_monitor: str, save_comp,\n",
    "                               model_name: str, early_metric_monitor, early_min_delta: float,\n",
    "                               early_comp, patience: int, project_location: str,\n",
    "                               tab_config: dict = None, y_range: float = None,\n",
    "                               plot: bool = True):\n",
    "    \"\"\"\n",
    "    Train a neural network and return leaner\n",
    "\n",
    "    Args:\n",
    "    * dl (TabularDataLoader): DataLoader needed\n",
    "    * layer_sizes (list): Model Layer Sizes\n",
    "    * metrics (list): Metrics of interest to watch while training\n",
    "    * epochs (int): Number of epochs\n",
    "    * wd (float): Weight decay\n",
    "    * save_metric_monitor (str): Model metric to watch and save only when metric improves\n",
    "    * save_comp ([type]): Metric should be np.greater or np.lesser depends on metric\n",
    "    * model_name (str): Model Name\n",
    "    * early_metric_monitor ([type]): Early stopping metric to stop training the model when improvement stops\n",
    "    * early_min_delta (float): How much the metric has to improve by unless counter will begin for early stopping\n",
    "    * early_comp ([type]): Metrics should be np.greater or np.lesser depends on metric\n",
    "    * patience (int): How many epochs to wait till improve decays\n",
    "    * project_location (str): Where the model will be stored for all purposes of training\n",
    "    * tab_config (dict): Convenient function to add drop out/ or remove some standard best practices\n",
    "        defaults: ps=None, embed_p=0.0, y_range=None, use_bn=True, bn_final=False, bn_cont=True, act_cls=ReLU(inplace=True)\n",
    "    * y_range (float, optional): Regression only giving a range the y variable can be. Defaults to None.\n",
    "    * plot (bool, optional): plot information to be able to see graphs. Defaults to True.\n",
    "\n",
    "    Returns:\n",
    "    * list: Learner, probabilities, acutals, loss\n",
    "    \"\"\"\n",
    "    learn = tabular_learner(dl, layers=layer_sizes, path=project_location,\n",
    "                            y_range=y_range, metrics=metrics, config=tab_config)\n",
    "    cbs = [SaveModelCallback(monitor=save_metric_monitor, comp=save_comp, fname=model_name),\n",
    "           EarlyStoppingCallback(monitor=early_metric_monitor, comp=np.greater,\n",
    "                                 min_delta=early_min_delta, patience=patience)]\n",
    "    if plot is True:\n",
    "        cbs.append(ShowGraphCallback())\n",
    "    lr_suggestion = learn.lr_find()\n",
    "    logger.info(f'Learning Rate Suggestion {lr_suggestion}')\n",
    "    gc.collect()\n",
    "    os.makedirs(project_location, exist_ok=True)\n",
    "    learn.fit_one_cycle(epochs, lr_suggestion[0], wd=wd, cbs=cbs)\n",
    "    gc.collect()\n",
    "    probs, y, loss = learn.get_preds(dl=dl.valid, with_loss=True)\n",
    "    return learn, probs, y, loss"
   ]
  },
  {
   "cell_type": "code",
   "execution_count": 6,
   "id": "demographic-phase",
   "metadata": {
    "ExecuteTime": {
     "end_time": "2022-02-01T23:58:23.321371Z",
     "start_time": "2022-02-01T23:58:23.182832Z"
    }
   },
   "outputs": [
    {
     "data": {
      "text/markdown": [
       "<h4 id=\"train_fastai_tabular_model\" class=\"doc_header\"><code>train_fastai_tabular_model</code><a href=\"__main__.py#L4\" class=\"source_link\" style=\"float:right\">[source]</a></h4>\n",
       "\n",
       "> <code>train_fastai_tabular_model</code>(**`dl`**, **`layer_sizes`**:`list`, **`metrics`**:`list`, **`epochs`**:`int`, **`wd`**:`float`, **`save_metric_monitor`**:`str`, **`save_comp`**, **`model_name`**:`str`, **`early_metric_monitor`**, **`early_min_delta`**:`float`, **`early_comp`**, **`patience`**:`int`, **`project_location`**:`str`, **`tab_config`**:`dict`=*`None`*, **`y_range`**:`float`=*`None`*, **`plot`**:`bool`=*`True`*)\n",
       "\n",
       "Train a neural network and return leaner\n",
       "\n",
       "Args:\n",
       "* dl (TabularDataLoader): DataLoader needed\n",
       "* layer_sizes (list): Model Layer Sizes\n",
       "* metrics (list): Metrics of interest to watch while training\n",
       "* epochs (int): Number of epochs\n",
       "* wd (float): Weight decay\n",
       "* save_metric_monitor (str): Model metric to watch and save only when metric improves\n",
       "* save_comp ([type]): Metric should be np.greater or np.lesser depends on metric\n",
       "* model_name (str): Model Name\n",
       "* early_metric_monitor ([type]): Early stopping metric to stop training the model when improvement stops\n",
       "* early_min_delta (float): How much the metric has to improve by unless counter will begin for early stopping\n",
       "* early_comp ([type]): Metrics should be np.greater or np.lesser depends on metric\n",
       "* patience (int): How many epochs to wait till improve decays\n",
       "* project_location (str): Where the model will be stored for all purposes of training\n",
       "* tab_config (dict): Convenient function to add drop out/ or remove some standard best practices\n",
       "    defaults: ps=None, embed_p=0.0, y_range=None, use_bn=True, bn_final=False, bn_cont=True, act_cls=ReLU(inplace=True)\n",
       "* y_range (float, optional): Regression only giving a range the y variable can be. Defaults to None.\n",
       "* plot (bool, optional): plot information to be able to see graphs. Defaults to True.\n",
       "\n",
       "Returns:\n",
       "* list: Learner, probabilities, acutals, loss"
      ],
      "text/plain": [
       "<IPython.core.display.Markdown object>"
      ]
     },
     "metadata": {},
     "output_type": "display_data"
    }
   ],
   "source": [
    "show_doc(train_fastai_tabular_model)"
   ]
  },
  {
   "cell_type": "markdown",
   "id": "comfortable-wrist",
   "metadata": {},
   "source": [
    "## Model Movement"
   ]
  },
  {
   "cell_type": "markdown",
   "id": "functioning-designation",
   "metadata": {},
   "source": [
    "### ``save_fastai_model_to_data_lake``"
   ]
  },
  {
   "cell_type": "code",
   "execution_count": 13,
   "id": "internal-namibia",
   "metadata": {
    "ExecuteTime": {
     "end_time": "2022-02-02T00:01:30.107285Z",
     "start_time": "2022-02-02T00:01:30.103663Z"
    }
   },
   "outputs": [],
   "source": [
    "#export\n",
    "\n",
    "\n",
    "def save_fastai_model_to_data_lake(learner, file_name: str, path: str, container: str,\n",
    "                                   connection_str: str, local_path: str = '', overwrite=False):\n",
    "    \"\"\"\n",
    "    Save a fastai model to data lake\n",
    "\n",
    "    Args:\n",
    "    * learner ([type]): fastai learner\n",
    "    * file_name (str): file name\n",
    "    * path (str): blob path location\n",
    "    * container (str): container name\n",
    "    * connection_str (str): azure connectioon string\n",
    "    * local_path (str, optional): local file path. Defaults to ''.\n",
    "    * overwrite (bool, optional): overwrite file. Defaults to False.\n",
    "    \"\"\"\n",
    "    logger.info(f'saving learner at {os.path.join(learner.path, file_name)}')\n",
    "    os.makedirs(learner.path, exist_ok=True)\n",
    "    learner.export(fname=file_name)\n",
    "    logger.info(f'Pushing Learner Object to Azure: {os.path.join(path, file_name)}')\n",
    "    blob_pusher(container_name=container,\n",
    "                connection_str=connection_str,\n",
    "                file_path=[os.path.join(learner.path, file_name)],\n",
    "                blob_dest=[path],\n",
    "                overwrite=overwrite)"
   ]
  },
  {
   "cell_type": "code",
   "execution_count": 14,
   "id": "labeled-publicity",
   "metadata": {
    "ExecuteTime": {
     "end_time": "2022-02-02T00:01:31.139576Z",
     "start_time": "2022-02-02T00:01:31.131483Z"
    }
   },
   "outputs": [
    {
     "data": {
      "text/markdown": [
       "<h4 id=\"save_fastai_model_to_data_lake\" class=\"doc_header\"><code>save_fastai_model_to_data_lake</code><a href=\"__main__.py#L4\" class=\"source_link\" style=\"float:right\">[source]</a></h4>\n",
       "\n",
       "> <code>save_fastai_model_to_data_lake</code>(**`learner`**, **`file_name`**:`str`, **`path`**:`str`, **`container`**:`str`, **`connection_str`**:`str`, **`local_path`**:`str`=*`''`*, **`overwrite`**=*`False`*)\n",
       "\n",
       "Save a fastai model to data lake\n",
       "\n",
       "Args:\n",
       "* learner ([type]): fastai learner\n",
       "* file_name (str): file name\n",
       "* path (str): blob path location\n",
       "* container (str): container name\n",
       "* connection_str (str): azure connectioon string\n",
       "* local_path (str, optional): local file path. Defaults to ''.\n",
       "* overwrite (bool, optional): overwrite file. Defaults to False."
      ],
      "text/plain": [
       "<IPython.core.display.Markdown object>"
      ]
     },
     "metadata": {},
     "output_type": "display_data"
    }
   ],
   "source": [
    "show_doc(save_fastai_model_to_data_lake)"
   ]
  },
  {
   "cell_type": "markdown",
   "id": "speaking-three",
   "metadata": {},
   "source": [
    "# Create"
   ]
  },
  {
   "cell_type": "code",
   "execution_count": 15,
   "id": "foster-miniature",
   "metadata": {
    "ExecuteTime": {
     "end_time": "2022-02-02T00:01:33.537574Z",
     "start_time": "2022-02-02T00:01:32.691735Z"
    }
   },
   "outputs": [
    {
     "name": "stdout",
     "output_type": "stream",
     "text": [
      "Converted 01_azure.ipynb.\n",
      "Converted 02_utils_dataframes.ipynb.\n",
      "Converted 02_utils_parseyaml.ipynb.\n",
      "Converted 02_utils_stfp.ipynb.\n",
      "Converted 02_utils_traininghelpers.ipynb.\n",
      "Converted 02_utils_traininghelpers_fastai.ipynb.\n",
      "Converted 03_dstools_preparedata.ipynb.\n",
      "Converted 04_snowflake_copyinto.ipynb.\n",
      "Converted 04_snowflake_copyinto2.ipynb.\n",
      "Converted 04_snowflake_query.ipynb.\n",
      "Converted 05_azure_wrappers.ipynb.\n",
      "Converted 06_modeling_inference.ipynb.\n",
      "Converted 06_modeling_inference_fastai.ipynb.\n",
      "Converted 06_modeling_premodel.ipynb.\n",
      "Converted 06_modeling_preprocessing.ipynb.\n",
      "Converted 06_modeling_preprocessing_fastai.ipynb.\n",
      "Converted 06_modeling_training.ipynb.\n",
      "Converted 06_modeling_training_fastai.ipynb.\n",
      "Converted 07_Binary_Classification_Fastai_Example_Notebook.ipynb.\n",
      "Converted 08_yaml_ingestion_binary_classification.ipynb.\n",
      "Converted index.ipynb.\n"
     ]
    }
   ],
   "source": [
    "#hide\n",
    "from nbdev.export import notebook2script\n",
    "notebook2script()"
   ]
  },
  {
   "cell_type": "code",
   "execution_count": null,
   "id": "5929483c",
   "metadata": {},
   "outputs": [],
   "source": []
  }
 ],
 "metadata": {
  "kernelspec": {
   "display_name": "Python 3 (ipykernel)",
   "language": "python",
   "name": "python3"
  },
  "language_info": {
   "codemirror_mode": {
    "name": "ipython",
    "version": 3
   },
   "file_extension": ".py",
   "mimetype": "text/x-python",
   "name": "python",
   "nbconvert_exporter": "python",
   "pygments_lexer": "ipython3",
   "version": "3.8.0"
  },
  "toc": {
   "base_numbering": 1,
   "nav_menu": {},
   "number_sections": true,
   "sideBar": true,
   "skip_h1_title": false,
   "title_cell": "Table of Contents",
   "title_sidebar": "Contents",
   "toc_cell": false,
   "toc_position": {},
   "toc_section_display": true,
   "toc_window_display": false
  }
 },
 "nbformat": 4,
 "nbformat_minor": 5
}
