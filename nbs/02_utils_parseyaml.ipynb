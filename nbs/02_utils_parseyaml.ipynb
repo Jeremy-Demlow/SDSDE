{
 "cells": [
  {
   "cell_type": "code",
   "execution_count": 4,
   "metadata": {
    "ExecuteTime": {
     "end_time": "2022-02-02T01:09:44.353186Z",
     "start_time": "2022-02-02T01:09:44.350887Z"
    }
   },
   "outputs": [],
   "source": [
    "#default_exp utils.parseyaml"
   ]
  },
  {
   "cell_type": "code",
   "execution_count": 5,
   "metadata": {
    "ExecuteTime": {
     "end_time": "2022-02-02T01:09:44.358180Z",
     "start_time": "2022-02-02T01:09:44.355626Z"
    }
   },
   "outputs": [],
   "source": [
    "#hide\n",
    "from nbdev.showdoc import *"
   ]
  },
  {
   "cell_type": "code",
   "execution_count": 6,
   "metadata": {
    "ExecuteTime": {
     "end_time": "2022-02-02T01:09:44.501750Z",
     "start_time": "2022-02-02T01:09:44.498060Z"
    }
   },
   "outputs": [],
   "source": [
    "#export\n",
    "\n",
    "from ruamel.yaml import YAML\n",
    "\n",
    "import logging\n",
    "import os\n",
    "\n",
    "logging.basicConfig(level=logging.INFO)\n",
    "logging.getLogger(\"azure.core\").setLevel(logging.WARNING)\n",
    "logging.getLogger(\"urllib3.connectionpool\").setLevel(logging.CRITICAL)\n",
    "logging.getLogger(\"snowflake.connector\").setLevel(logging.WARNING)\n",
    "logger = logging.getLogger(__name__)"
   ]
  },
  {
   "cell_type": "markdown",
   "metadata": {},
   "source": [
    "# ``ParseYaml`` & ``yml_reader``"
   ]
  },
  {
   "cell_type": "code",
   "execution_count": 7,
   "metadata": {
    "ExecuteTime": {
     "end_time": "2022-02-02T01:09:45.239970Z",
     "start_time": "2022-02-02T01:09:45.235639Z"
    }
   },
   "outputs": [],
   "source": [
    "#export\n",
    "\n",
    "\n",
    "class ParseYaml:\n",
    "    \"\"\"\n",
    "    Simple Parser from project yamls\n",
    "    Reading the yaml file\n",
    "\n",
    "    :param path: path to the yaml file\n",
    "    \"\"\"\n",
    "\n",
    "    def __init__(self, path: str, f_logger=logging.getLogger(__name__)):\n",
    "        self._logger = f_logger\n",
    "        if os.path.exists(path):\n",
    "            self.yaml_file = yml_reader(path, self._logger)\n",
    "        else:\n",
    "            self.yaml_file = None\n",
    "            self._logger.info(f'yaml file {path} does not exisit')\n",
    "\n",
    "    def get_yaml(self, data_list: list = None):\n",
    "        \"\"\"\n",
    "        Return Yaml Query Info\n",
    "\n",
    "        :param data_list: Optional if None returns full yaml\n",
    "        allows user to index into yaml file as far as they\n",
    "        want and index allows.\n",
    "\n",
    "        Return: specific yaml section\n",
    "        \"\"\"\n",
    "        if not data_list:\n",
    "            return self.yaml_file\n",
    "        yaml_key = self.yaml_file.get(f'{data_list[0]}')\n",
    "        if len(data_list) > 1:\n",
    "            for level in data_list[1:]:\n",
    "                yaml_key = yaml_key.get(f'{level}')\n",
    "        return yaml_key"
   ]
  },
  {
   "cell_type": "code",
   "execution_count": 8,
   "metadata": {
    "ExecuteTime": {
     "end_time": "2022-02-02T01:09:45.471233Z",
     "start_time": "2022-02-02T01:09:45.468190Z"
    }
   },
   "outputs": [],
   "source": [
    "#export\n",
    "\n",
    "\n",
    "def yml_reader(yml_filepath: str, logger: logging = None):\n",
    "    \"\"\"\n",
    "    Reading the yaml file.\n",
    "\n",
    "    :param yml_filepath: path to the yamlfile\n",
    "    :param logger: logging\n",
    "\n",
    "    Return: Dictionary of yaml file contents\n",
    "    \"\"\"\n",
    "    _logger = logger if logger is not None else logging.getLogger(__name__)\n",
    "    if os.path.exists(yml_filepath):\n",
    "        with open(yml_filepath) as stream:\n",
    "            yml = YAML(typ=\"safe\")\n",
    "            yml_dict = yml.load(stream)\n",
    "        return yml_dict\n",
    "    else:\n",
    "        _logger.info(f\"yml_filepath ({yml_filepath}) doesn't exisit\")"
   ]
  },
  {
   "cell_type": "markdown",
   "metadata": {},
   "source": [
    "# How to Use"
   ]
  },
  {
   "cell_type": "code",
   "execution_count": 9,
   "metadata": {
    "ExecuteTime": {
     "end_time": "2022-02-02T01:09:45.944952Z",
     "start_time": "2022-02-02T01:09:45.933416Z"
    }
   },
   "outputs": [
    {
     "data": {
      "text/markdown": [
       "<h2 id=\"ParseYaml\" class=\"doc_header\"><code>class</code> <code>ParseYaml</code><a href=\"\" class=\"source_link\" style=\"float:right\">[source]</a></h2>\n",
       "\n",
       "> <code>ParseYaml</code>(**`path`**:`str`, **`f_logger`**=*`<Logger __main__ (INFO)>`*)\n",
       "\n",
       "Simple Parser from project yamls\n",
       "Reading the yaml file\n",
       "\n",
       ":param path: path to the yaml file"
      ],
      "text/plain": [
       "<IPython.core.display.Markdown object>"
      ]
     },
     "metadata": {},
     "output_type": "display_data"
    }
   ],
   "source": [
    "show_doc(ParseYaml)"
   ]
  },
  {
   "cell_type": "code",
   "execution_count": 10,
   "metadata": {
    "ExecuteTime": {
     "end_time": "2022-02-02T01:09:46.157250Z",
     "start_time": "2022-02-02T01:09:46.152009Z"
    }
   },
   "outputs": [],
   "source": [
    "yaml_file = \"./testing/sdsde_test.yaml\"\n",
    "\n",
    "test_parser = ParseYaml(yaml_file)\n",
    "assert test_parser is not None, f\"parser_yaml should be a parser object {test_parser}\"\n",
    "assert test_parser.yaml_file == test_parser.get_yaml(), 'get_yaml default is to grab the yaml_file in __init__'"
   ]
  },
  {
   "cell_type": "code",
   "execution_count": 11,
   "metadata": {
    "ExecuteTime": {
     "end_time": "2022-02-02T01:09:46.400038Z",
     "start_time": "2022-02-02T01:09:46.397437Z"
    }
   },
   "outputs": [],
   "source": [
    "yaml_dict = test_parser.yaml_file\n",
    "assert type(yaml_dict) is dict, f\"parser_yaml.yaml_file should be a dict, found {type(yaml_dict)}\""
   ]
  },
  {
   "cell_type": "code",
   "execution_count": 12,
   "metadata": {
    "ExecuteTime": {
     "end_time": "2022-02-02T01:09:46.705080Z",
     "start_time": "2022-02-02T01:09:46.701309Z"
    }
   },
   "outputs": [
    {
     "data": {
      "text/plain": [
       "{'local': {'query': {'blob_path': 'query',\n",
       "   'account_name': 'Connectsnowflakedata',\n",
       "   'container_name': 'skierability',\n",
       "   'file_name': 'skierability_query.txt',\n",
       "   'sql': 'select * from poc_dev.public.ski_score;',\n",
       "   'push_file': 'skierability_scores.csv'}},\n",
       " 'test': {'query': {'blob_path': 'query',\n",
       "   'account_name': 'snowflakedata',\n",
       "   'container_name': 'skierability',\n",
       "   'file_name': 'skierability_query.txt',\n",
       "   'sql': 'SELECT * FROM poc_dev.public.ski_score LIMIT 10',\n",
       "   'push_file': 'skierability_scores.csv'}}}"
      ]
     },
     "execution_count": 12,
     "metadata": {},
     "output_type": "execute_result"
    }
   ],
   "source": [
    "yaml_dict"
   ]
  },
  {
   "cell_type": "code",
   "execution_count": 13,
   "metadata": {
    "ExecuteTime": {
     "end_time": "2022-02-02T01:09:46.725457Z",
     "start_time": "2022-02-02T01:09:46.720923Z"
    }
   },
   "outputs": [],
   "source": [
    "yml_dict = test_parser.get_yaml(['test', 'query'])\n",
    "keys = []\n",
    "values = []\n",
    "for k, v in yml_dict.items():\n",
    "    keys.append(k)\n",
    "    values.append(v)\n",
    "assert len(keys) == 6, f\"length is 6 length shown f'{len(keys)}'\"\n",
    "assert len(values) == 6, f\"length is 6 length shown f'{len(v)}'\""
   ]
  },
  {
   "cell_type": "code",
   "execution_count": 14,
   "metadata": {
    "ExecuteTime": {
     "end_time": "2022-02-02T01:09:46.748066Z",
     "start_time": "2022-02-02T01:09:46.745103Z"
    }
   },
   "outputs": [],
   "source": [
    "account_name = test_parser.get_yaml(['test', 'query', 'account_name'])\n",
    "assert account_name == 'snowflakedata', f\"Looking for snowflakedata got {account_name}\""
   ]
  },
  {
   "cell_type": "code",
   "execution_count": 15,
   "metadata": {
    "ExecuteTime": {
     "end_time": "2022-02-02T01:09:46.785522Z",
     "start_time": "2022-02-02T01:09:46.780182Z"
    }
   },
   "outputs": [],
   "source": [
    "assert os.path.exists(yaml_file), f\"yaml file does not exist: {yaml_file}\"\n",
    "parser_yaml = ParseYaml(yaml_file)\n",
    "assert parser_yaml is not None, f\"parser_yaml should be a parser object {parser_yaml}\"\n",
    "yaml = parser_yaml.yaml_file\n",
    "assert type(yaml) is dict, f\"parser_yaml.yaml_file should be a dict, found {type(yaml)}\""
   ]
  },
  {
   "cell_type": "markdown",
   "metadata": {},
   "source": [
    "# Create"
   ]
  },
  {
   "cell_type": "code",
   "execution_count": null,
   "metadata": {},
   "outputs": [],
   "source": [
    "#hide\n",
    "from nbdev.export import notebook2script\n",
    "notebook2script()"
   ]
  }
 ],
 "metadata": {
  "kernelspec": {
   "display_name": "Python 3 (ipykernel)",
   "language": "python",
   "name": "python3"
  },
  "language_info": {
   "codemirror_mode": {
    "name": "ipython",
    "version": 3
   },
   "file_extension": ".py",
   "mimetype": "text/x-python",
   "name": "python",
   "nbconvert_exporter": "python",
   "pygments_lexer": "ipython3",
   "version": "3.8.0"
  },
  "toc": {
   "base_numbering": 1,
   "nav_menu": {},
   "number_sections": true,
   "sideBar": true,
   "skip_h1_title": false,
   "title_cell": "Table of Contents",
   "title_sidebar": "Contents",
   "toc_cell": false,
   "toc_position": {},
   "toc_section_display": true,
   "toc_window_display": false
  }
 },
 "nbformat": 4,
 "nbformat_minor": 4
}
