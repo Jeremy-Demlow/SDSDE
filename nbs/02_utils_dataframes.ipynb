{
 "cells": [
  {
   "cell_type": "code",
   "execution_count": 5,
   "metadata": {
    "ExecuteTime": {
     "end_time": "2022-02-02T01:09:25.709361Z",
     "start_time": "2022-02-02T01:09:25.707412Z"
    }
   },
   "outputs": [],
   "source": [
    "#default_exp utils.dataframes"
   ]
  },
  {
   "cell_type": "code",
   "execution_count": 6,
   "metadata": {
    "ExecuteTime": {
     "end_time": "2022-02-02T01:09:25.914508Z",
     "start_time": "2022-02-02T01:09:25.912217Z"
    }
   },
   "outputs": [],
   "source": [
    "#hide\n",
    "from nbdev.showdoc import *"
   ]
  },
  {
   "cell_type": "markdown",
   "metadata": {},
   "source": [
    "# Dataframes"
   ]
  },
  {
   "cell_type": "code",
   "execution_count": 7,
   "metadata": {
    "ExecuteTime": {
     "end_time": "2022-02-02T01:09:26.299126Z",
     "start_time": "2022-02-02T01:09:26.295971Z"
    }
   },
   "outputs": [],
   "source": [
    "#export\n",
    "import pandas as pd\n",
    "\n",
    "import logging\n",
    "\n",
    "logging.basicConfig(level=logging.INFO)\n",
    "logging.getLogger(\"azure.core\").setLevel(logging.WARNING)\n",
    "logging.getLogger(\"urllib3.connectionpool\").setLevel(logging.CRITICAL)\n",
    "logging.getLogger(\"snowflake.connector\").setLevel(logging.WARNING)\n",
    "logger = logging.getLogger(__name__)"
   ]
  },
  {
   "cell_type": "code",
   "execution_count": 8,
   "metadata": {
    "ExecuteTime": {
     "end_time": "2022-02-02T01:09:26.489427Z",
     "start_time": "2022-02-02T01:09:26.486066Z"
    }
   },
   "outputs": [],
   "source": [
    "# export\n",
    "\n",
    "\n",
    "def join_df(left, right, left_on: list, right_on=None, suffix='_y', how='left'):\n",
    "    \"\"\"helper for pd.merge\"\"\"\n",
    "    if right_on is None:\n",
    "        right_on = left_on\n",
    "    return left.merge(right, how=how, left_on=left_on, right_on=right_on, suffixes=(\"\", suffix))\n",
    "\n",
    "\n",
    "def display_all(df):\n",
    "    \"\"\"see more of the data frame\"\"\"\n",
    "    with pd.option_context(\"display.max_rows\", 1000):\n",
    "        with pd.option_context(\"display.max_columns\", 1000):\n",
    "            display(df) # noqa:"
   ]
  },
  {
   "cell_type": "markdown",
   "metadata": {},
   "source": [
    "# How to Use"
   ]
  },
  {
   "cell_type": "code",
   "execution_count": 9,
   "metadata": {
    "ExecuteTime": {
     "end_time": "2022-02-02T01:09:26.893019Z",
     "start_time": "2022-02-02T01:09:26.884892Z"
    },
    "scrolled": true
   },
   "outputs": [
    {
     "data": {
      "text/markdown": [
       "<h4 id=\"join_df\" class=\"doc_header\"><code>join_df</code><a href=\"__main__.py#L4\" class=\"source_link\" style=\"float:right\">[source]</a></h4>\n",
       "\n",
       "> <code>join_df</code>(**`left`**, **`right`**, **`left_on`**:`list`, **`right_on`**=*`None`*, **`suffix`**=*`'_y'`*, **`how`**=*`'left'`*)\n",
       "\n",
       "helper for pd.merge"
      ],
      "text/plain": [
       "<IPython.core.display.Markdown object>"
      ]
     },
     "metadata": {},
     "output_type": "display_data"
    }
   ],
   "source": [
    "show_doc(join_df)"
   ]
  },
  {
   "cell_type": "code",
   "execution_count": 10,
   "metadata": {
    "ExecuteTime": {
     "end_time": "2022-02-02T01:09:27.088998Z",
     "start_time": "2022-02-02T01:09:27.081671Z"
    }
   },
   "outputs": [],
   "source": [
    "dict1 = [{'ecid': 150, 'state': 'CA', 'year': 2010, 'visits': 10},\n",
    "         {'ecid': 151, 'state': 'LA', 'month': 2, 'visits': 0},\n",
    "         {'ecid': 160, 'state': 'CO', 'month': 1, 'visits': 2},\n",
    "         {'ecid': 125, 'month': 'june', 'visits': 123}]\n",
    "\n",
    "dict2 = [{'ecid': 150, 'home': 'CA', 'avg_visits': 0.20, 'LTR': 6},\n",
    "         {'ecid': 151, 'home': 'LA', 'avg_visits': 2.68, 'LTR': 2},\n",
    "         {'ecid': 160, 'home': 'CO', 'avg_visits': 0.56, 'LTR': 4},\n",
    "         {'ecid': 100, 'home': 'LA', 'avg_visits': 2.0, 'LTR': 3}]\n",
    "\n",
    "dict3 = [{'ecid': 150, 'state': 'CA', 'home': 'CA', 'avg_visits': 0.20, 'LTR': 6},\n",
    "         {'ecid': 150, 'state': 'CO', 'home': 'AZ', 'avg_visits': 0.20, 'LTR': 6},\n",
    "         {'ecid': 151, 'home': 'LA', 'avg_visits': 2.68, 'LTR': 2},\n",
    "         {'ecid': 160, 'home': 'CO', 'avg_visits': 0.56, 'LTR': 4},\n",
    "         {'ecid': 100, 'home': 'LA', 'avg_visits': 2.0, 'LTR': 3}]\n",
    "\n",
    "df = pd.DataFrame(dict1)\n",
    "df2 = pd.DataFrame(dict2)\n",
    "df3 = pd.DataFrame(dict3)"
   ]
  },
  {
   "cell_type": "code",
   "execution_count": 11,
   "metadata": {
    "ExecuteTime": {
     "end_time": "2022-02-02T01:09:27.298014Z",
     "start_time": "2022-02-02T01:09:27.286551Z"
    }
   },
   "outputs": [],
   "source": [
    "join = join_df(df, df2, left_on=['ecid'])\n",
    "assert int(int(df.shape[1]) + int(df2.shape[1])) - 1 == join.shape[1]"
   ]
  },
  {
   "cell_type": "code",
   "execution_count": 12,
   "metadata": {
    "ExecuteTime": {
     "end_time": "2022-02-02T01:09:27.495074Z",
     "start_time": "2022-02-02T01:09:27.488795Z"
    }
   },
   "outputs": [],
   "source": [
    "join = join_df(df2, df, left_on=['ecid'], how='right')\n",
    "assert int(int(df.shape[1]) + int(df2.shape[1])) - 1 == join.shape[1]"
   ]
  },
  {
   "cell_type": "code",
   "execution_count": 13,
   "metadata": {
    "ExecuteTime": {
     "end_time": "2022-02-02T01:09:27.711221Z",
     "start_time": "2022-02-02T01:09:27.706101Z"
    }
   },
   "outputs": [],
   "source": [
    "join = join_df(df, df2, left_on=['ecid'], how='inner')\n",
    "assert join.shape[0] == 3, f\"expecting 3 rows (150, 151, 160), found {join}\"\n",
    "assert set(join.ecid) == {150, 151, 160}, f\"expecting 3 rows (150, 151, 160), found {join}\""
   ]
  },
  {
   "cell_type": "code",
   "execution_count": 14,
   "metadata": {
    "ExecuteTime": {
     "end_time": "2022-02-02T01:09:27.947058Z",
     "start_time": "2022-02-02T01:09:27.941506Z"
    }
   },
   "outputs": [],
   "source": [
    "join = join_df(df, df3, left_on=['ecid', 'state'], how='inner')\n",
    "assert join.shape[0] == 1, f\"only 1 row should match in {join}\""
   ]
  },
  {
   "cell_type": "markdown",
   "metadata": {},
   "source": [
    "# Create "
   ]
  },
  {
   "cell_type": "code",
   "execution_count": 15,
   "metadata": {
    "ExecuteTime": {
     "end_time": "2022-02-02T01:10:16.741937Z",
     "start_time": "2022-02-02T01:10:16.047157Z"
    }
   },
   "outputs": [
    {
     "name": "stdout",
     "output_type": "stream",
     "text": [
      "Converted 01_azure.ipynb.\n",
      "Converted 02_utils_dataframes.ipynb.\n",
      "Converted 02_utils_parseyaml.ipynb.\n",
      "Converted 02_utils_stfp.ipynb.\n",
      "Converted 02_utils_traininghelpers.ipynb.\n",
      "Converted 02_utils_traininghelpers_fastai.ipynb.\n",
      "Converted 03_dstools_preparedata.ipynb.\n",
      "Converted 04_snowflake_copyinto.ipynb.\n",
      "Converted 04_snowflake_copyinto2.ipynb.\n",
      "Converted 04_snowflake_query.ipynb.\n",
      "Converted 05_azure_wrappers.ipynb.\n",
      "Converted 06_modeling_inference.ipynb.\n",
      "Converted 06_modeling_inference_fastai.ipynb.\n",
      "Converted 06_modeling_premodel.ipynb.\n",
      "Converted 06_modeling_preprocessing.ipynb.\n",
      "Converted 06_modeling_preprocessing_fastai.ipynb.\n",
      "Converted 06_modeling_training.ipynb.\n",
      "Converted 06_modeling_training_fastai.ipynb.\n",
      "Converted 07_Binary_Classification_Fastai_Example_Notebook.ipynb.\n",
      "Converted index.ipynb.\n"
     ]
    }
   ],
   "source": [
    "#hide\n",
    "from nbdev.export import notebook2script\n",
    "notebook2script()"
   ]
  }
 ],
 "metadata": {
  "kernelspec": {
   "display_name": "Python 3 (ipykernel)",
   "language": "python",
   "name": "python3"
  },
  "language_info": {
   "codemirror_mode": {
    "name": "ipython",
    "version": 3
   },
   "file_extension": ".py",
   "mimetype": "text/x-python",
   "name": "python",
   "nbconvert_exporter": "python",
   "pygments_lexer": "ipython3",
   "version": "3.8.0"
  },
  "toc": {
   "base_numbering": 1,
   "nav_menu": {},
   "number_sections": true,
   "sideBar": true,
   "skip_h1_title": false,
   "title_cell": "Table of Contents",
   "title_sidebar": "Contents",
   "toc_cell": false,
   "toc_position": {},
   "toc_section_display": true,
   "toc_window_display": false
  }
 },
 "nbformat": 4,
 "nbformat_minor": 4
}
