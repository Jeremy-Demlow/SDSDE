{
 "cells": [
  {
   "cell_type": "code",
   "execution_count": 2,
   "id": "affected-capture",
   "metadata": {
    "ExecuteTime": {
     "end_time": "2022-02-01T22:00:14.283117Z",
     "start_time": "2022-02-01T22:00:14.279847Z"
    }
   },
   "outputs": [],
   "source": [
    "#default_exp utils.traininghelpers"
   ]
  },
  {
   "cell_type": "code",
   "execution_count": 3,
   "id": "decimal-drink",
   "metadata": {
    "ExecuteTime": {
     "end_time": "2022-02-01T22:00:16.161413Z",
     "start_time": "2022-02-01T22:00:15.025355Z"
    }
   },
   "outputs": [],
   "source": [
    "#hide\n",
    "from nbdev.showdoc import *"
   ]
  },
  {
   "cell_type": "markdown",
   "id": "ignored-acquisition",
   "metadata": {},
   "source": [
    "# Training Helpers"
   ]
  },
  {
   "cell_type": "code",
   "execution_count": 4,
   "id": "lined-violin",
   "metadata": {
    "ExecuteTime": {
     "end_time": "2022-02-01T22:00:19.423071Z",
     "start_time": "2022-02-01T22:00:18.161098Z"
    }
   },
   "outputs": [],
   "source": [
    "#export \n",
    "import logging\n",
    "import scikitplot as skplt\n",
    "import numpy as np\n",
    "import matplotlib.pyplot as plt\n",
    "import pandas as pd\n",
    "\n",
    "from rfpimp import *\n",
    "from sklearn.metrics import classification_report, confusion_matrix, auc, roc_curve, balanced_accuracy_score\n",
    "\n",
    "logging.basicConfig(level=logging.INFO)\n",
    "logging.getLogger(\"azure.core\").setLevel(logging.WARNING)\n",
    "logging.getLogger(\"urllib3.connectionpool\").setLevel(logging.CRITICAL)\n",
    "logging.getLogger(\"snowflake.connector\").setLevel(logging.WARNING)\n",
    "logger = logging.getLogger(__name__)"
   ]
  },
  {
   "cell_type": "markdown",
   "id": "established-bookmark",
   "metadata": {},
   "source": [
    "## Method Generic Functions"
   ]
  },
  {
   "cell_type": "markdown",
   "id": "downtown-dallas",
   "metadata": {},
   "source": [
    "### ``binary_classification_reporter_sklearn``"
   ]
  },
  {
   "cell_type": "code",
   "execution_count": 5,
   "id": "conceptual-caution",
   "metadata": {
    "ExecuteTime": {
     "end_time": "2022-02-01T22:00:20.100155Z",
     "start_time": "2022-02-01T22:00:20.091169Z"
    }
   },
   "outputs": [],
   "source": [
    "#export\n",
    "\n",
    "\n",
    "def plot_fi(fi, std=True, feature_importance_type=''):\n",
    "    \"\"\"plots feature importance\"\"\"\n",
    "    if std:\n",
    "        ax = fi.plot('cols', 'imp', 'barh', figsize=(12, 7), legend=False, xerr='std')\n",
    "    else:\n",
    "        ax = fi.plot('cols', 'imp', 'barh', figsize=(12, 7), legend=False)\n",
    "\n",
    "    ax.set_xlabel(f\"{feature_importance_type} Feature Importance\")\n",
    "    return ax\n",
    "\n",
    "\n",
    "def binary_classification_reporter_sklearn(m, x: pd.DataFrame, y=None, threshold: float = 0.5,\n",
    "                                           plot: bool = False, feature_importance: bool = False):\n",
    "    \"\"\"\n",
    "    Returns basic information on a binary classification problem\n",
    "    TODO: Make More flexibile\n",
    "\n",
    "    Args:\n",
    "    * m ([type]): model\n",
    "    * x (pd.DataFrame): Training data\n",
    "    * y ([type], optional): Labels. Defaults to None.\n",
    "    * threshold (float, optional): Threshold for logit cut off. Defaults to 0.5.\n",
    "    * plot (bool, optional): show plots. Defaults to False.\n",
    "    * feature_importance (bool, optional): calculate fi. Defaults to False.\n",
    "\n",
    "    Returns:\n",
    "    * list: probailities and predictions\n",
    "    \"\"\"\n",
    "    logger.info('predicting set')\n",
    "    probs = m.predict_proba(x)\n",
    "    returns = probs[:, 1]\n",
    "    preds = np.where(returns > threshold, 1, 0)\n",
    "    logger.info(f\"Percent Return Predicted Set {'{:.3}%'.format(preds.sum()/len(probs))}\")\n",
    "    if y is not None:\n",
    "        logger.info(f\"Percent Return Actual Set {'{:.3}%'.format(y.sum()/len(probs))}\")\n",
    "        cm = confusion_matrix(y, preds)\n",
    "        logger.info(\"Accuracy For Each Class\")\n",
    "        logger.info(cm.diagonal()/cm.sum(axis=1))\n",
    "        logger.info(cm)\n",
    "        logger.info(classification_report(y, preds))\n",
    "        accuracy_value = balanced_accuracy_score(y_true=y, y_pred=preds)\n",
    "        fpr, tpr, thresholds = roc_curve(y, returns)\n",
    "        val_auc = auc(fpr, tpr)\n",
    "        logger.info(f'AUC {val_auc}')\n",
    "    if plot is True:\n",
    "        skplt.metrics.plot_roc(y, probs)\n",
    "        plt.show()\n",
    "        skplt.metrics.plot_precision_recall(y, probs)\n",
    "        plt.show()\n",
    "    if feature_importance is True:\n",
    "        fi_permutation = importances(m, x, y)\n",
    "        fi_permutation = (fi_permutation\n",
    "                          .reset_index()\n",
    "                          .rename({'Feature': 'cols', 'Importance': 'imp'}, axis=1))\n",
    "        plot_fi(fi_permutation[:10], False, 'Permutation')\n",
    "        plot_fi(fi_permutation[-10:], False, 'Permutation')\n",
    "    if y is not None and feature_importance is True:\n",
    "        return probs, preds, val_auc, accuracy_value, fi_permutation\n",
    "    elif y is not None and feature_importance is False:\n",
    "        return probs, preds, val_auc, accuracy_value\n",
    "    else:\n",
    "        return probs, preds"
   ]
  },
  {
   "cell_type": "markdown",
   "id": "operational-warrior",
   "metadata": {},
   "source": [
    "# Create"
   ]
  },
  {
   "cell_type": "code",
   "execution_count": 7,
   "id": "further-butler",
   "metadata": {
    "ExecuteTime": {
     "end_time": "2022-02-01T22:44:52.988042Z",
     "start_time": "2022-02-01T22:44:52.177918Z"
    }
   },
   "outputs": [
    {
     "name": "stdout",
     "output_type": "stream",
     "text": [
      "Converted 01_azure.ipynb.\n",
      "Converted 02_utils_dataframes.ipynb.\n",
      "Converted 02_utils_parseyaml.ipynb.\n",
      "Converted 02_utils_stfp.ipynb.\n",
      "Converted 02_utils_traininghelpers.ipynb.\n",
      "Converted 02_utils_traininghelpers_fastai.ipynb.\n",
      "Converted 03_dstools_preparedata.ipynb.\n",
      "Converted 04_snowflake_copyinto.ipynb.\n",
      "Converted 04_snowflake_copyinto2.ipynb.\n",
      "Converted 04_snowflake_query.ipynb.\n",
      "Converted 05_azure_wrappers.ipynb.\n",
      "Converted 06_modeling_inference.ipynb.\n",
      "Converted 06_modeling_inference_fastai.ipynb.\n",
      "Converted 06_modeling_premodel.ipynb.\n",
      "Converted 06_modeling_preprocessing.ipynb.\n",
      "Converted 06_modeling_preprocessing_fastai.ipynb.\n",
      "Converted 06_modeling_training.ipynb.\n",
      "Converted 06_modeling_training_fastai.ipynb.\n",
      "Converted 07_Binary_Classification_Fastai_Example_Notebook.ipynb.\n",
      "Converted 08_yaml_ingestion_binary_classification.ipynb.\n",
      "Converted index.ipynb.\n"
     ]
    }
   ],
   "source": [
    "#hide\n",
    "from nbdev.export import notebook2script\n",
    "notebook2script()"
   ]
  }
 ],
 "metadata": {
  "kernelspec": {
   "display_name": "Python 3 (ipykernel)",
   "language": "python",
   "name": "python3"
  },
  "language_info": {
   "codemirror_mode": {
    "name": "ipython",
    "version": 3
   },
   "file_extension": ".py",
   "mimetype": "text/x-python",
   "name": "python",
   "nbconvert_exporter": "python",
   "pygments_lexer": "ipython3",
   "version": "3.8.0"
  },
  "toc": {
   "base_numbering": 1,
   "nav_menu": {},
   "number_sections": true,
   "sideBar": true,
   "skip_h1_title": false,
   "title_cell": "Table of Contents",
   "title_sidebar": "Contents",
   "toc_cell": false,
   "toc_position": {},
   "toc_section_display": true,
   "toc_window_display": false
  }
 },
 "nbformat": 4,
 "nbformat_minor": 5
}
