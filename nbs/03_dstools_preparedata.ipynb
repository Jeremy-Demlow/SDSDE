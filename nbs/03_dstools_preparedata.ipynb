{
 "cells": [
  {
   "cell_type": "code",
   "execution_count": 3,
   "metadata": {
    "ExecuteTime": {
     "end_time": "2022-02-01T22:52:08.781767Z",
     "start_time": "2022-02-01T22:52:08.779499Z"
    }
   },
   "outputs": [],
   "source": [
    "#default_exp dstools.preparedata"
   ]
  },
  {
   "cell_type": "code",
   "execution_count": 4,
   "metadata": {
    "ExecuteTime": {
     "end_time": "2022-02-01T22:52:08.786001Z",
     "start_time": "2022-02-01T22:52:08.783710Z"
    }
   },
   "outputs": [],
   "source": [
    "#hide\n",
    "from nbdev.showdoc import *"
   ]
  },
  {
   "cell_type": "code",
   "execution_count": 5,
   "metadata": {
    "ExecuteTime": {
     "end_time": "2022-02-01T22:52:09.557594Z",
     "start_time": "2022-02-01T22:52:09.274872Z"
    }
   },
   "outputs": [],
   "source": [
    "#hide\n",
    "# imports needed for test\n",
    "import numpy as np\n",
    "import pandas as pd"
   ]
  },
  {
   "cell_type": "markdown",
   "metadata": {},
   "source": [
    "# Data Prepare"
   ]
  },
  {
   "cell_type": "code",
   "execution_count": 6,
   "metadata": {
    "ExecuteTime": {
     "end_time": "2022-02-01T22:52:09.703527Z",
     "start_time": "2022-02-01T22:52:09.701196Z"
    }
   },
   "outputs": [],
   "source": [
    "#export\n",
    "import pandas as pd\n",
    "from pandas.api.types import is_numeric_dtype"
   ]
  },
  {
   "cell_type": "code",
   "execution_count": 7,
   "metadata": {
    "ExecuteTime": {
     "end_time": "2022-02-01T22:52:09.913878Z",
     "start_time": "2022-02-01T22:52:09.909835Z"
    }
   },
   "outputs": [],
   "source": [
    "# export\n",
    "\n",
    "\n",
    "class EncodeCats:\n",
    "    \"\"\"\n",
    "    How to Use:\n",
    "    encode = EncodeCats()\n",
    "    fixmissing = FixMissing()\n",
    "    normalize = Normalize()\n",
    "    df, categories = encode.apply_train(df, cat_vars)\n",
    "    df, na_dict = fixmissing.apply_train(df, cont_vars, cat_vars, add_col=True)\n",
    "    df, means, stds = normalize.apply_train(df, cont_vars)\n",
    "    \"\"\"\n",
    "\n",
    "    def __init__(self):\n",
    "        self.categories = {}\n",
    "\n",
    "    def apply_train(self, df, cat_vars):\n",
    "        \"\"\"Transform cat_vars columns in categoricals\"\"\"\n",
    "        for n in cat_vars:\n",
    "            df.loc[:, n] = df.loc[:, n].astype('category').cat.as_ordered()\n",
    "            self.categories[n] = df[n].cat.categories\n",
    "        return df, self.categories\n",
    "\n",
    "    @staticmethod\n",
    "    def apply_test(df, cat_vars, categories):\n",
    "        \"\"\"Apply transform of cat_vars from training to test\"\"\"\n",
    "        for n in cat_vars:\n",
    "            df.loc[:, n] = pd.Categorical(df[n], categories=categories[n], ordered=True)   # noqa:"
   ]
  },
  {
   "cell_type": "code",
   "execution_count": 8,
   "metadata": {
    "ExecuteTime": {
     "end_time": "2022-02-01T22:52:10.113284Z",
     "start_time": "2022-02-01T22:52:10.107018Z"
    }
   },
   "outputs": [],
   "source": [
    "# export\n",
    "\n",
    "\n",
    "class FixMissing:\n",
    "\n",
    "    @staticmethod\n",
    "    def apply_train(df, cont_vars, cat_vars, add_col=True):\n",
    "        \"\"\"Fill missing in cont_vars\"\"\"\n",
    "        na_dict = {}\n",
    "        for name in cont_vars:\n",
    "            if pd.isnull(df[name]).sum():\n",
    "                if add_col:\n",
    "                    df[name + '_na'] = pd.isnull(df[name])\n",
    "                filler = df[name].median()\n",
    "                df[name] = df[name].fillna(filler)\n",
    "                na_dict[name] = filler\n",
    "        return df, na_dict\n",
    "\n",
    "    @staticmethod\n",
    "    def apply_test(df, cont_vars, cat_vars, na_dict, add_col=True):\n",
    "        \"\"\"Fill missing values in cont_vars like apply train\"\"\"\n",
    "        for name in cont_vars:\n",
    "            if name in na_dict:\n",
    "                if add_col:\n",
    "                    df[name + '_na'] = pd.isnull(df[name])\n",
    "                df[name] = df[name].fillna(na_dict[name])\n",
    "            elif pd.isnull(df[name]).sum() != 0:\n",
    "                raise Exception(f\"\"\"There are nan values in field {name}.\"\"\")"
   ]
  },
  {
   "cell_type": "code",
   "execution_count": 9,
   "metadata": {
    "ExecuteTime": {
     "end_time": "2022-02-01T22:52:10.361533Z",
     "start_time": "2022-02-01T22:52:10.355186Z"
    }
   },
   "outputs": [],
   "source": [
    "# export\n",
    "\n",
    "\n",
    "class Normalize:\n",
    "\n",
    "    @staticmethod\n",
    "    def apply_train(df, cont_vars):\n",
    "        \"\"\"Computer the means and stds of cont_name columns to normalize them\"\"\"   # noqa:\n",
    "        means, stds = {}, {}\n",
    "        for n in cont_vars:\n",
    "            assert is_numeric_dtype(df[n]), f\"\"\"Can't normalize '{n}' column as it isn't numerical.\"\"\"  # noqa:\n",
    "            means[n], stds[n] = df[n].mean(), df[n].std()\n",
    "            df[n] = (df[n] - means[n]) / (1e-7 + stds[n])\n",
    "        return df, means, stds\n",
    "\n",
    "    @staticmethod\n",
    "    def apply_test(df, means, stds, cont_vars):\n",
    "        \"\"\"Normalize cont_vars with the same statistics in apply_train\"\"\"\n",
    "        for n in cont_vars:\n",
    "            df[n] = (df[n] - means[n]) / (1e-7 + stds[n])"
   ]
  },
  {
   "cell_type": "code",
   "execution_count": 10,
   "metadata": {
    "ExecuteTime": {
     "end_time": "2022-02-01T22:52:10.607039Z",
     "start_time": "2022-02-01T22:52:10.604506Z"
    }
   },
   "outputs": [],
   "source": [
    "# export\n",
    "\n",
    "\n",
    "def numericalize(df, col, name, max_n_cat):\n",
    "    \"\"\"Numericalize is used to encode the categorical variables for model use\"\"\"   # noqa:\n",
    "    if not is_numeric_dtype(col) and (max_n_cat is None or len(col.cat.categories) > max_n_cat):  # noqa:\n",
    "        df[name] = col.cat.codes + 1"
   ]
  },
  {
   "cell_type": "code",
   "execution_count": 11,
   "metadata": {
    "ExecuteTime": {
     "end_time": "2022-02-01T22:52:10.911161Z",
     "start_time": "2022-02-01T22:52:10.905977Z"
    }
   },
   "outputs": [],
   "source": [
    "# export\n",
    "\n",
    "\n",
    "def split_data(df, y_fld=None, max_n_cat=None):\n",
    "    \"\"\"split_data is the last step in preparing a data set for model ingestion\"\"\"   # noqa:\n",
    "    df = df.copy()\n",
    "    if y_fld is None:\n",
    "        y = None\n",
    "    else:\n",
    "        if not is_numeric_dtype(df[y_fld]):\n",
    "            df[y_fld] = df[y_fld].cat.codes\n",
    "        y = df[y_fld].values\n",
    "    df.drop(y_fld, axis=1, inplace=True)\n",
    "    for n, c in df.items():\n",
    "        numericalize(df, c, n, max_n_cat)\n",
    "    return df, y"
   ]
  },
  {
   "cell_type": "markdown",
   "metadata": {},
   "source": [
    "# How to use"
   ]
  },
  {
   "cell_type": "code",
   "execution_count": 12,
   "metadata": {
    "ExecuteTime": {
     "end_time": "2022-02-01T22:52:11.936678Z",
     "start_time": "2022-02-01T22:52:11.933905Z"
    }
   },
   "outputs": [],
   "source": [
    "encode = EncodeCats()\n",
    "fixmissing = FixMissing()\n",
    "normalize = Normalize()"
   ]
  },
  {
   "cell_type": "code",
   "execution_count": 13,
   "metadata": {
    "ExecuteTime": {
     "end_time": "2022-02-01T22:52:12.359852Z",
     "start_time": "2022-02-01T22:52:12.350837Z"
    }
   },
   "outputs": [],
   "source": [
    "dict1 = [{'ecid': 150, 'home': 'CA', 'avg_visits': 0.20, 'LTR': 6},\n",
    "         {'ecid': 151, 'home': 'LA', 'avg_visits': np.nan, 'LTR': 2},\n",
    "         {'ecid': 160, 'home': 'CO', 'avg_visits': 0.56, 'LTR': 4},\n",
    "         {'ecid': 100, 'home': 'LA', 'avg_visits': 2.0, 'LTR': 3}]\n",
    "\n",
    "dict2 = [{'ecid': 150, 'home': 'CA', 'avg_visits': 0.20,   'LTR': 6},\n",
    "         {'ecid': 151, 'home': 'LA', 'avg_visits': 2.68,   'LTR': 2},\n",
    "         {'ecid': 160, 'home': 'CO', 'avg_visits': np.nan, 'LTR': 4},\n",
    "         {'ecid': 100, 'home': None, 'avg_visits': 2.0,    'LTR': 3}]\n",
    "\n",
    "df = pd.DataFrame(dict1)\n",
    "test = pd.DataFrame(dict2)\n",
    "\n",
    "cat_vars = ['home']\n",
    "cont_vars = ['ecid', 'avg_visits', 'LTR']"
   ]
  },
  {
   "cell_type": "code",
   "execution_count": 14,
   "metadata": {
    "ExecuteTime": {
     "end_time": "2022-02-01T22:52:12.720217Z",
     "start_time": "2022-02-01T22:52:12.711550Z"
    }
   },
   "outputs": [
    {
     "data": {
      "text/markdown": [
       "<h4 id=\"EncodeCats.apply_train\" class=\"doc_header\"><code>EncodeCats.apply_train</code><a href=\"__main__.py#L18\" class=\"source_link\" style=\"float:right\">[source]</a></h4>\n",
       "\n",
       "> <code>EncodeCats.apply_train</code>(**`df`**, **`cat_vars`**)\n",
       "\n",
       "Transform cat_vars columns in categoricals"
      ],
      "text/plain": [
       "<IPython.core.display.Markdown object>"
      ]
     },
     "metadata": {},
     "output_type": "display_data"
    }
   ],
   "source": [
    "show_doc(EncodeCats.apply_train)"
   ]
  },
  {
   "cell_type": "code",
   "execution_count": 15,
   "metadata": {
    "ExecuteTime": {
     "end_time": "2022-02-01T22:52:12.981921Z",
     "start_time": "2022-02-01T22:52:12.965728Z"
    }
   },
   "outputs": [],
   "source": [
    "df, categories = encode.apply_train(df, cat_vars)"
   ]
  },
  {
   "cell_type": "code",
   "execution_count": 16,
   "metadata": {
    "ExecuteTime": {
     "end_time": "2022-02-01T22:52:13.210618Z",
     "start_time": "2022-02-01T22:52:13.205713Z"
    }
   },
   "outputs": [
    {
     "data": {
      "text/markdown": [
       "<h4 id=\"EncodeCats.apply_test\" class=\"doc_header\"><code>EncodeCats.apply_test</code><a href=\"__main__.py#L25\" class=\"source_link\" style=\"float:right\">[source]</a></h4>\n",
       "\n",
       "> <code>EncodeCats.apply_test</code>(**`df`**, **`cat_vars`**, **`categories`**)\n",
       "\n",
       "Apply transform of cat_vars from training to test"
      ],
      "text/plain": [
       "<IPython.core.display.Markdown object>"
      ]
     },
     "metadata": {},
     "output_type": "display_data"
    }
   ],
   "source": [
    "show_doc(EncodeCats.apply_test)"
   ]
  },
  {
   "cell_type": "code",
   "execution_count": 17,
   "metadata": {
    "ExecuteTime": {
     "end_time": "2022-02-01T22:52:13.445651Z",
     "start_time": "2022-02-01T22:52:13.428926Z"
    }
   },
   "outputs": [],
   "source": [
    "encode.apply_test(test, cat_vars, categories)\n",
    "assert (test[-1:].home.cat.codes == -1).all(), 'encode should make missing -1'"
   ]
  },
  {
   "cell_type": "code",
   "execution_count": 18,
   "metadata": {
    "ExecuteTime": {
     "end_time": "2022-02-01T22:52:13.653291Z",
     "start_time": "2022-02-01T22:52:13.647775Z"
    }
   },
   "outputs": [
    {
     "data": {
      "text/markdown": [
       "<h4 id=\"FixMissing.apply_train\" class=\"doc_header\"><code>FixMissing.apply_train</code><a href=\"__main__.py#L6\" class=\"source_link\" style=\"float:right\">[source]</a></h4>\n",
       "\n",
       "> <code>FixMissing.apply_train</code>(**`df`**, **`cont_vars`**, **`cat_vars`**, **`add_col`**=*`True`*)\n",
       "\n",
       "Fill missing in cont_vars"
      ],
      "text/plain": [
       "<IPython.core.display.Markdown object>"
      ]
     },
     "metadata": {},
     "output_type": "display_data"
    }
   ],
   "source": [
    "show_doc(FixMissing.apply_train)"
   ]
  },
  {
   "cell_type": "code",
   "execution_count": 19,
   "metadata": {
    "ExecuteTime": {
     "end_time": "2022-02-01T22:52:13.690670Z",
     "start_time": "2022-02-01T22:52:13.673438Z"
    }
   },
   "outputs": [],
   "source": [
    "df, na_dict = fixmissing.apply_train(df, cont_vars, cat_vars, add_col=True)\n",
    "assert df.avg_visits[1] == na_dict.get('avg_visits'), 'na_dict value applied to missing value'"
   ]
  },
  {
   "cell_type": "code",
   "execution_count": 20,
   "metadata": {
    "ExecuteTime": {
     "end_time": "2022-02-01T22:52:13.896430Z",
     "start_time": "2022-02-01T22:52:13.891740Z"
    }
   },
   "outputs": [
    {
     "data": {
      "text/markdown": [
       "<h4 id=\"FixMissing.apply_test\" class=\"doc_header\"><code>FixMissing.apply_test</code><a href=\"__main__.py#L19\" class=\"source_link\" style=\"float:right\">[source]</a></h4>\n",
       "\n",
       "> <code>FixMissing.apply_test</code>(**`df`**, **`cont_vars`**, **`cat_vars`**, **`na_dict`**, **`add_col`**=*`True`*)\n",
       "\n",
       "Fill missing values in cont_vars like apply train"
      ],
      "text/plain": [
       "<IPython.core.display.Markdown object>"
      ]
     },
     "metadata": {},
     "output_type": "display_data"
    }
   ],
   "source": [
    "show_doc(FixMissing.apply_test)"
   ]
  },
  {
   "cell_type": "code",
   "execution_count": 21,
   "metadata": {
    "ExecuteTime": {
     "end_time": "2022-02-01T22:52:14.152962Z",
     "start_time": "2022-02-01T22:52:14.148698Z"
    }
   },
   "outputs": [],
   "source": [
    "fixmissing.apply_test(test, cont_vars, cat_vars, na_dict, add_col=True)\n",
    "assert df.avg_visits[2] == na_dict.get('avg_visits'), 'na_dict value applied to missing value'"
   ]
  },
  {
   "cell_type": "code",
   "execution_count": 22,
   "metadata": {
    "ExecuteTime": {
     "end_time": "2022-02-01T22:52:14.408492Z",
     "start_time": "2022-02-01T22:52:14.403730Z"
    }
   },
   "outputs": [
    {
     "data": {
      "text/markdown": [
       "<h4 id=\"Normalize.apply_train\" class=\"doc_header\"><code>Normalize.apply_train</code><a href=\"__main__.py#L6\" class=\"source_link\" style=\"float:right\">[source]</a></h4>\n",
       "\n",
       "> <code>Normalize.apply_train</code>(**`df`**, **`cont_vars`**)\n",
       "\n",
       "Computer the means and stds of cont_name columns to normalize them"
      ],
      "text/plain": [
       "<IPython.core.display.Markdown object>"
      ]
     },
     "metadata": {},
     "output_type": "display_data"
    }
   ],
   "source": [
    "show_doc(Normalize.apply_train)"
   ]
  },
  {
   "cell_type": "code",
   "execution_count": 23,
   "metadata": {
    "ExecuteTime": {
     "end_time": "2022-02-01T22:52:14.663856Z",
     "start_time": "2022-02-01T22:52:14.648594Z"
    }
   },
   "outputs": [],
   "source": [
    "df, means, stds = normalize.apply_train(df, cont_vars)"
   ]
  },
  {
   "cell_type": "code",
   "execution_count": 24,
   "metadata": {
    "ExecuteTime": {
     "end_time": "2022-02-01T22:52:14.672458Z",
     "start_time": "2022-02-01T22:52:14.668433Z"
    }
   },
   "outputs": [
    {
     "data": {
      "text/markdown": [
       "<h4 id=\"Normalize.apply_test\" class=\"doc_header\"><code>Normalize.apply_test</code><a href=\"__main__.py#L16\" class=\"source_link\" style=\"float:right\">[source]</a></h4>\n",
       "\n",
       "> <code>Normalize.apply_test</code>(**`df`**, **`means`**, **`stds`**, **`cont_vars`**)\n",
       "\n",
       "Normalize cont_vars with the same statistics in apply_train"
      ],
      "text/plain": [
       "<IPython.core.display.Markdown object>"
      ]
     },
     "metadata": {},
     "output_type": "display_data"
    }
   ],
   "source": [
    "show_doc(Normalize.apply_test)"
   ]
  },
  {
   "cell_type": "code",
   "execution_count": 25,
   "metadata": {
    "ExecuteTime": {
     "end_time": "2022-02-01T22:52:15.325607Z",
     "start_time": "2022-02-01T22:52:15.321244Z"
    }
   },
   "outputs": [],
   "source": [
    "normalize.apply_test(test, means, stds, cont_vars)\n",
    "\n",
    "assert (test.ecid.values == df.ecid.values).all()"
   ]
  },
  {
   "cell_type": "code",
   "execution_count": 26,
   "metadata": {
    "ExecuteTime": {
     "end_time": "2022-02-01T22:52:15.640514Z",
     "start_time": "2022-02-01T22:52:15.624868Z"
    }
   },
   "outputs": [],
   "source": [
    "df_trn, y_trn = split_data(df, 'LTR')\n",
    "\n",
    "assert (df_trn.shape[1] + 1) == df.shape[1], 'removes dependent variable'\n",
    "assert (df.LTR.values == y_trn).all(), 'spliting dependent variable'"
   ]
  },
  {
   "cell_type": "markdown",
   "metadata": {},
   "source": [
    "# Create"
   ]
  },
  {
   "cell_type": "code",
   "execution_count": 27,
   "metadata": {
    "ExecuteTime": {
     "end_time": "2022-02-01T22:52:19.577196Z",
     "start_time": "2022-02-01T22:52:18.614499Z"
    }
   },
   "outputs": [
    {
     "name": "stdout",
     "output_type": "stream",
     "text": [
      "Converted 01_azure.ipynb.\n",
      "Converted 02_utils_dataframes.ipynb.\n",
      "Converted 02_utils_parseyaml.ipynb.\n",
      "Converted 02_utils_stfp.ipynb.\n",
      "Converted 02_utils_traininghelpers.ipynb.\n",
      "Converted 02_utils_traininghelpers_fastai.ipynb.\n",
      "Converted 03_dstools_preparedata.ipynb.\n",
      "Converted 04_snowflake_copyinto.ipynb.\n",
      "Converted 04_snowflake_copyinto2.ipynb.\n",
      "Converted 04_snowflake_query.ipynb.\n",
      "Converted 05_azure_wrappers.ipynb.\n",
      "Converted 06_modeling_inference.ipynb.\n",
      "Converted 06_modeling_inference_fastai.ipynb.\n",
      "Converted 06_modeling_premodel.ipynb.\n",
      "Converted 06_modeling_preprocessing.ipynb.\n",
      "Converted 06_modeling_preprocessing_fastai.ipynb.\n",
      "Converted 06_modeling_training.ipynb.\n",
      "Converted 06_modeling_training_fastai.ipynb.\n",
      "Converted 07_Binary_Classification_Fastai_Example_Notebook.ipynb.\n",
      "Converted 08_yaml_ingestion_binary_classification.ipynb.\n",
      "Converted index.ipynb.\n"
     ]
    }
   ],
   "source": [
    "#hide\n",
    "from nbdev.export import notebook2script\n",
    "notebook2script()"
   ]
  }
 ],
 "metadata": {
  "kernelspec": {
   "display_name": "Python 3 (ipykernel)",
   "language": "python",
   "name": "python3"
  },
  "language_info": {
   "codemirror_mode": {
    "name": "ipython",
    "version": 3
   },
   "file_extension": ".py",
   "mimetype": "text/x-python",
   "name": "python",
   "nbconvert_exporter": "python",
   "pygments_lexer": "ipython3",
   "version": "3.8.0"
  },
  "toc": {
   "base_numbering": 1,
   "nav_menu": {},
   "number_sections": true,
   "sideBar": true,
   "skip_h1_title": false,
   "title_cell": "Table of Contents",
   "title_sidebar": "Contents",
   "toc_cell": false,
   "toc_position": {},
   "toc_section_display": true,
   "toc_window_display": false
  }
 },
 "nbformat": 4,
 "nbformat_minor": 4
}
