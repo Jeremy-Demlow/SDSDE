{
 "cells": [
  {
   "cell_type": "markdown",
   "metadata": {},
   "source": [
    "# sdsde Library"
   ]
  },
  {
   "cell_type": "markdown",
   "metadata": {},
   "source": [
    "This library SDSDE (Simplify Data Science and Data Engineering) is a library that focuses on making Data Science and Data Engineering tasks much easier for the masses this is a pre-release so this isn't a pypi library, but I plan on spending time improving this and releasing this as a tool that will help organizations that are Snowflake, Azure and Gitlab focused.\n",
    "\n",
    "This template approach can easily be transfered to other clouds, but would need time and focus to make sure this was possible. Hope this is something someone finds and is happy take code from this that makes their lives much easier in the future.\n",
    "\n",
    "Inside of this library you will have all the tools needed to move data from azure datalakes and snowflake to help build Full Data Science Pipelines.\n",
    "\n",
    "I am planning on releasing a template example of this with a kaggle example similar to below expect I will focus on treating the Kaggle API as the ingestion point to azure datalake and then move that data to snowflake to be queried from a feature store and then modeled and create model inference against the test set.\n",
    "\n",
    "What you will learn from that template is that one can iterate quickly and get a full Data Science Pipeline out the door in less than a day. This way business uses"
   ]
  },
  {
   "cell_type": "markdown",
   "metadata": {},
   "source": [
    "# How to Install sdsde Library"
   ]
  },
  {
   "cell_type": "markdown",
   "metadata": {},
   "source": [
    "```bash\n",
    "pip install sdsde\n",
    "```"
   ]
  },
  {
   "cell_type": "markdown",
   "metadata": {},
   "source": [
    "# Kaggle Examples"
   ]
  },
  {
   "cell_type": "code",
   "execution_count": 14,
   "metadata": {
    "ExecuteTime": {
     "end_time": "2022-02-03T21:55:42.258890Z",
     "start_time": "2022-02-03T21:55:42.249556Z"
    }
   },
   "outputs": [],
   "source": [
    "#skip\n",
    "import logging\n",
    "import os\n",
    "import pandas as pd\n",
    "import numpy as np\n",
    "import xgboost as xgb\n",
    "import gc\n",
    "\n",
    "from sdsde.modeling.inference import pull_sklearn_object_from_data_lake, \\\n",
    "                                    push_dataframe_to_data_lake_as_parquet, move_parquet_table_to_snowflake, \\\n",
    "                                    query_and_push_feature_set_to_data_lake\n",
    "from sdsde.modeling.inferencefastai import (\n",
    "    pull_fastai_learner_from_data_lake, pull_transform_predict_sklearn, pull_fastai_preprocess_from_data_lake,\n",
    "    push_prediction_to_dl_and_sf\n",
    ")\n",
    "from sdsde.modeling.premodel import make_data_lake_stage, temporal_and_static_dump_data_to_datalake\n",
    "from sdsde.modeling.preprocessingfastai import generate_fastai_pytorch_dataloader, load_pandas, save_fastai_preprocess_to_data_lake\n",
    "from sdsde.modeling.premodel import query_pushed_parquet_table_data_lake, query_feature_set_from_data_lake\n",
    "from sdsde.modeling.training import HpOptBinary, save_sklearn_object_to_data_lake\n",
    "from sdsde.modeling.trainingfastai import train_fastai_tabular_model, save_fastai_model_to_data_lake\n",
    "from sdsde.snowflake.query import SnowflakeConnect\n",
    "from sdsde.azure.filehandling import FileHandling\n",
    "from sdsde.utils.traininghelpers import  binary_classification_reporter_sklearn\n",
    "from sdsde.utils.traininghelpersfastai import binary_classification_reporter_fastai_dl, change_dl_to_pandas_df\n",
    "from fastai.tabular.core import CategoryBlock, Categorify, FillMissing, Normalize\n",
    "from fastai.basics import *\n",
    "from fastai.tabular.all import *\n",
    "from hyperopt import fmin, tpe, STATUS_OK, Trials, hp, space_eval\n",
    "from sklearn.ensemble import RandomForestClassifier, VotingClassifier\n",
    "from sklearn.model_selection import train_test_split\n",
    "\n",
    "\n",
    "logging.basicConfig(level=logging.INFO)\n",
    "logging.getLogger(\"azure.core\").setLevel(logging.WARNING)\n",
    "logging.getLogger(\"urllib3.connectionpool\").setLevel(logging.CRITICAL)\n",
    "logging.getLogger(\"snowflake.connector\").setLevel(logging.WARNING)\n",
    "logger = logging.getLogger(__name__)"
   ]
  },
  {
   "cell_type": "markdown",
   "metadata": {},
   "source": [
    "This approach will not win you a Kaggle Competition, but it will get you a baseline and allow you to iterate quickly and get quick feed back from Kaggle to know if what you are doinng is making a difference."
   ]
  },
  {
   "cell_type": "markdown",
   "metadata": {},
   "source": [
    "## Binary Classification Classic Titanic"
   ]
  },
  {
   "cell_type": "code",
   "execution_count": 160,
   "metadata": {
    "ExecuteTime": {
     "end_time": "2022-02-03T19:40:38.316672Z",
     "start_time": "2022-02-03T19:40:36.774236Z"
    }
   },
   "outputs": [
    {
     "name": "stdout",
     "output_type": "stream",
     "text": [
      "ref      deadline             category            reward  teamCount  userHasEntered  \r\n",
      "-------  -------------------  ---------------  ---------  ---------  --------------  \r\n",
      "titanic  2030-01-01 00:00:00  Getting Started  Knowledge      13982            True  \r\n"
     ]
    }
   ],
   "source": [
    "#skip\n",
    "! kaggle competitions list -s titanic"
   ]
  },
  {
   "cell_type": "code",
   "execution_count": 161,
   "metadata": {
    "ExecuteTime": {
     "end_time": "2022-02-03T19:40:41.894256Z",
     "start_time": "2022-02-03T19:40:40.289199Z"
    }
   },
   "outputs": [
    {
     "name": "stdout",
     "output_type": "stream",
     "text": [
      "fileName          date                 description    status    publicScore  privateScore  \r\n",
      "----------------  -------------------  -------------  --------  -----------  ------------  \r\n",
      "titantic_sub.csv  2022-02-03 19:31:30  Quick Xgboost  complete  0.73444      None          \r\n",
      "titantic_sub.csv  2022-02-03 19:27:28  Auto Fastai    complete  0.74401      None          \r\n"
     ]
    }
   ],
   "source": [
    "#skip\n",
    "\n",
    "! kaggle competitions submissions  -c titanic"
   ]
  },
  {
   "cell_type": "code",
   "execution_count": 121,
   "metadata": {
    "ExecuteTime": {
     "end_time": "2022-02-04T00:08:10.092521Z",
     "start_time": "2022-02-04T00:08:07.839914Z"
    },
    "scrolled": true
   },
   "outputs": [
    {
     "name": "stdout",
     "output_type": "stream",
     "text": [
      "Downloading titanic.zip to /home/azureuser/gitlab/sdsde/nbs\n",
      "  0%|                                               | 0.00/34.1k [00:00<?, ?B/s]\n",
      "100%|██████████████████████████████████████| 34.1k/34.1k [00:00<00:00, 8.58MB/s]\n",
      "Archive:  titanic.zip\n",
      "  inflating: gender_submission.csv   \n",
      "  inflating: test.csv                \n",
      "  inflating: train.csv               \n"
     ]
    }
   ],
   "source": [
    "#skip\n",
    "\n",
    "!kaggle competitions download -c titanic\n",
    "\n",
    "! unzip titanic.zip"
   ]
  },
  {
   "cell_type": "markdown",
   "metadata": {},
   "source": [
    "### DL Method Tabluar"
   ]
  },
  {
   "cell_type": "code",
   "execution_count": 122,
   "metadata": {
    "ExecuteTime": {
     "end_time": "2022-02-04T00:08:11.772872Z",
     "start_time": "2022-02-04T00:08:11.702699Z"
    }
   },
   "outputs": [
    {
     "name": "stderr",
     "output_type": "stream",
     "text": [
      "INFO:__main__:Size of data set: (891, 12)\n"
     ]
    },
    {
     "data": {
      "text/html": [
       "<div>\n",
       "<style scoped>\n",
       "    .dataframe tbody tr th:only-of-type {\n",
       "        vertical-align: middle;\n",
       "    }\n",
       "\n",
       "    .dataframe tbody tr th {\n",
       "        vertical-align: top;\n",
       "    }\n",
       "\n",
       "    .dataframe thead th {\n",
       "        text-align: right;\n",
       "    }\n",
       "</style>\n",
       "<table border=\"1\" class=\"dataframe\">\n",
       "  <thead>\n",
       "    <tr style=\"text-align: right;\">\n",
       "      <th></th>\n",
       "      <th>PassengerId</th>\n",
       "      <th>Survived</th>\n",
       "      <th>Pclass</th>\n",
       "      <th>Name</th>\n",
       "      <th>Sex</th>\n",
       "      <th>Age</th>\n",
       "      <th>SibSp</th>\n",
       "      <th>Parch</th>\n",
       "      <th>Ticket</th>\n",
       "      <th>Fare</th>\n",
       "      <th>Cabin</th>\n",
       "      <th>Embarked</th>\n",
       "      <th>Fare_Bucket</th>\n",
       "      <th>Ticket_Frequency</th>\n",
       "      <th>Title</th>\n",
       "      <th>Is_Married</th>\n",
       "    </tr>\n",
       "  </thead>\n",
       "  <tbody>\n",
       "    <tr>\n",
       "      <th>0</th>\n",
       "      <td>1</td>\n",
       "      <td>0</td>\n",
       "      <td>3</td>\n",
       "      <td>Braund, Mr. Owen Harris</td>\n",
       "      <td>male</td>\n",
       "      <td>(19.0, 22.0]</td>\n",
       "      <td>1</td>\n",
       "      <td>0</td>\n",
       "      <td>A/5 21171</td>\n",
       "      <td>7.2500</td>\n",
       "      <td>NaN</td>\n",
       "      <td>S</td>\n",
       "      <td>(7.229, 7.75]</td>\n",
       "      <td>1</td>\n",
       "      <td>Mr</td>\n",
       "      <td>0</td>\n",
       "    </tr>\n",
       "    <tr>\n",
       "      <th>1</th>\n",
       "      <td>2</td>\n",
       "      <td>1</td>\n",
       "      <td>1</td>\n",
       "      <td>Cumings, Mrs. John Bradley (Florence Briggs Thayer)</td>\n",
       "      <td>female</td>\n",
       "      <td>(36.0, 41.0]</td>\n",
       "      <td>1</td>\n",
       "      <td>0</td>\n",
       "      <td>PC 17599</td>\n",
       "      <td>71.2833</td>\n",
       "      <td>C85</td>\n",
       "      <td>C</td>\n",
       "      <td>(55.9, 83.158]</td>\n",
       "      <td>1</td>\n",
       "      <td>Mrs</td>\n",
       "      <td>1</td>\n",
       "    </tr>\n",
       "    <tr>\n",
       "      <th>2</th>\n",
       "      <td>3</td>\n",
       "      <td>1</td>\n",
       "      <td>3</td>\n",
       "      <td>Heikkinen, Miss. Laina</td>\n",
       "      <td>female</td>\n",
       "      <td>(25.0, 28.0]</td>\n",
       "      <td>0</td>\n",
       "      <td>0</td>\n",
       "      <td>STON/O2. 3101282</td>\n",
       "      <td>7.9250</td>\n",
       "      <td>NaN</td>\n",
       "      <td>S</td>\n",
       "      <td>(7.896, 8.05]</td>\n",
       "      <td>1</td>\n",
       "      <td>Miss</td>\n",
       "      <td>0</td>\n",
       "    </tr>\n",
       "  </tbody>\n",
       "</table>\n",
       "</div>"
      ],
      "text/plain": [
       "   PassengerId  Survived  Pclass  \\\n",
       "0            1         0       3   \n",
       "1            2         1       1   \n",
       "2            3         1       3   \n",
       "\n",
       "                                                  Name     Sex           Age  \\\n",
       "0                              Braund, Mr. Owen Harris    male  (19.0, 22.0]   \n",
       "1  Cumings, Mrs. John Bradley (Florence Briggs Thayer)  female  (36.0, 41.0]   \n",
       "2                               Heikkinen, Miss. Laina  female  (25.0, 28.0]   \n",
       "\n",
       "   SibSp  Parch            Ticket     Fare Cabin Embarked     Fare_Bucket  \\\n",
       "0      1      0         A/5 21171   7.2500   NaN        S   (7.229, 7.75]   \n",
       "1      1      0          PC 17599  71.2833   C85        C  (55.9, 83.158]   \n",
       "2      0      0  STON/O2. 3101282   7.9250   NaN        S   (7.896, 8.05]   \n",
       "\n",
       "   Ticket_Frequency Title  Is_Married  \n",
       "0                 1    Mr           0  \n",
       "1                 1   Mrs           1  \n",
       "2                 1  Miss           0  "
      ]
     },
     "metadata": {},
     "output_type": "display_data"
    }
   ],
   "source": [
    "#skip\n",
    "\n",
    "df = pd.read_csv('train.csv')\n",
    "\n",
    "logger.info(f'Size of data set: {df.shape}')\n",
    "\n",
    "# quick feature eng\n",
    "def feature_create(df):\n",
    "    df['Fare_Bucket'] = pd.qcut(df['Fare'], 13)\n",
    "    df['Age'] = pd.qcut(df['Age'], 10)\n",
    "    df['Ticket_Frequency'] = df.groupby('Ticket')['Ticket'].transform('count')\n",
    "    df['Title'] = df['Name'].str.split(', ', expand=True)[1].str.split('.', expand=True)[0]\n",
    "    df['Is_Married'] = 0\n",
    "    df['Is_Married'] = np.where(df.Title == 'Mrs', 1, 0)\n",
    "    return df\n",
    "df = feature_create(df)\n",
    "df.loc[df.sample(frac=0.05).index, 'Fare'] = np.nan\n",
    "display(df.head(3))"
   ]
  },
  {
   "cell_type": "code",
   "execution_count": 123,
   "metadata": {
    "ExecuteTime": {
     "end_time": "2022-02-04T00:08:18.706603Z",
     "start_time": "2022-02-04T00:08:12.250522Z"
    }
   },
   "outputs": [
    {
     "name": "stderr",
     "output_type": "stream",
     "text": [
      "INFO:sdsde.modeling.preprocessingfastai:Training Data Size 713\n",
      "INFO:sdsde.modeling.preprocessingfastai:Validation Data Size 178\n",
      "INFO:sdsde.modeling.preprocessingfastai:Categorical Variable(s) For Project ['Pclass', 'Name', 'Sex', 'Age', 'SibSp', 'Parch', 'Ticket', 'Cabin', 'Embarked', 'Fare_Bucket', 'Ticket_Frequency', 'Title', 'Is_Married']\n",
      "INFO:sdsde.modeling.preprocessingfastai:Continuous Variable(s) For Project ['Fare']\n",
      "INFO:sdsde.modeling.preprocessingfastai:Dependent Variable(s) For Project ['Survived']\n",
      "INFO:sdsde.modeling.preprocessingfastai:dataloader being created\n",
      "INFO:sdsde.modeling.preprocessingfastai:   Pclass  Name  Sex  Age  SibSp  Parch  Ticket  Cabin  Embarked  Fare_Bucket  \\\n",
      "0       3   109    2    3      2      1     524      0         3            2   \n",
      "3       1   273    1    7      2      1      50     56         3           11   \n",
      "4       3    16    2    7      1      1     473      0         3            4   \n",
      "8       3   413    1    5      1      3     345      0         3            6   \n",
      "9       2   577    1    1      2      1     133      0         1           10   \n",
      "\n",
      "   Ticket_Frequency  Title  Is_Married  Fare_na      Fare  \n",
      "0                 1     12           1        1 -0.477924  \n",
      "3                 2     13           2        1  0.422923  \n",
      "4                 1     12           1        1 -0.462206  \n",
      "8                 3     13           2        1 -0.401626  \n",
      "9                 2     13           2        1 -0.029548  \n"
     ]
    },
    {
     "data": {
      "text/html": [],
      "text/plain": [
       "<IPython.core.display.HTML object>"
      ]
     },
     "metadata": {},
     "output_type": "display_data"
    },
    {
     "name": "stderr",
     "output_type": "stream",
     "text": [
      "/home/azureuser/miniconda3/envs/dsde_upgrade/lib/python3.8/site-packages/fastai/callback/schedule.py:270: UserWarning: color is redundantly defined by the 'color' keyword argument and the fmt string \"ro\" (-> color='r'). The keyword argument will take precedence.\n",
      "  ax.plot(val, idx, 'ro', label=nm, c=color)\n",
      "INFO:sdsde.modeling.trainingfastai:Learning Rate Suggestion SuggestedLRs(valley=0.001737800776027143)\n"
     ]
    },
    {
     "data": {
      "text/html": [
       "<table border=\"1\" class=\"dataframe\">\n",
       "  <thead>\n",
       "    <tr style=\"text-align: left;\">\n",
       "      <th>epoch</th>\n",
       "      <th>train_loss</th>\n",
       "      <th>valid_loss</th>\n",
       "      <th>recall_score</th>\n",
       "      <th>accuracy</th>\n",
       "      <th>f1_score</th>\n",
       "      <th>roc_auc_score</th>\n",
       "      <th>balanced_accuracy_score</th>\n",
       "      <th>time</th>\n",
       "    </tr>\n",
       "  </thead>\n",
       "  <tbody>\n",
       "    <tr>\n",
       "      <td>0</td>\n",
       "      <td>0.628193</td>\n",
       "      <td>0.661324</td>\n",
       "      <td>0.000000</td>\n",
       "      <td>0.601124</td>\n",
       "      <td>0.000000</td>\n",
       "      <td>0.748848</td>\n",
       "      <td>0.500000</td>\n",
       "      <td>00:00</td>\n",
       "    </tr>\n",
       "    <tr>\n",
       "      <td>1</td>\n",
       "      <td>0.477936</td>\n",
       "      <td>0.611730</td>\n",
       "      <td>0.014085</td>\n",
       "      <td>0.606742</td>\n",
       "      <td>0.027778</td>\n",
       "      <td>0.874292</td>\n",
       "      <td>0.507042</td>\n",
       "      <td>00:00</td>\n",
       "    </tr>\n",
       "    <tr>\n",
       "      <td>2</td>\n",
       "      <td>0.329095</td>\n",
       "      <td>0.468887</td>\n",
       "      <td>0.591549</td>\n",
       "      <td>0.797753</td>\n",
       "      <td>0.700000</td>\n",
       "      <td>0.873239</td>\n",
       "      <td>0.763064</td>\n",
       "      <td>00:00</td>\n",
       "    </tr>\n",
       "    <tr>\n",
       "      <td>3</td>\n",
       "      <td>0.216401</td>\n",
       "      <td>0.449692</td>\n",
       "      <td>0.732394</td>\n",
       "      <td>0.780899</td>\n",
       "      <td>0.727273</td>\n",
       "      <td>0.869817</td>\n",
       "      <td>0.772739</td>\n",
       "      <td>00:00</td>\n",
       "    </tr>\n",
       "    <tr>\n",
       "      <td>4</td>\n",
       "      <td>0.152425</td>\n",
       "      <td>0.447413</td>\n",
       "      <td>0.718310</td>\n",
       "      <td>0.786517</td>\n",
       "      <td>0.728571</td>\n",
       "      <td>0.869817</td>\n",
       "      <td>0.775043</td>\n",
       "      <td>00:00</td>\n",
       "    </tr>\n",
       "  </tbody>\n",
       "</table>"
      ],
      "text/plain": [
       "<IPython.core.display.HTML object>"
      ]
     },
     "metadata": {},
     "output_type": "display_data"
    },
    {
     "name": "stdout",
     "output_type": "stream",
     "text": [
      "Better model found at epoch 0 with balanced_accuracy_score value: 0.5.\n"
     ]
    },
    {
     "data": {
      "image/png": "[encoded data removed]",
      "text/plain": [
       "<Figure size 432x288 with 1 Axes>"
      ]
     },
     "metadata": {},
     "output_type": "display_data"
    },
    {
     "name": "stdout",
     "output_type": "stream",
     "text": [
      "Better model found at epoch 1 with balanced_accuracy_score value: 0.5070422535211268.\n",
      "Better model found at epoch 2 with balanced_accuracy_score value: 0.7630643675134922.\n",
      "Better model found at epoch 3 with balanced_accuracy_score value: 0.7727392391733579.\n",
      "Better model found at epoch 4 with balanced_accuracy_score value: 0.7750427800447546.\n"
     ]
    },
    {
     "data": {
      "text/html": [],
      "text/plain": [
       "<IPython.core.display.HTML object>"
      ]
     },
     "metadata": {},
     "output_type": "display_data"
    },
    {
     "name": "stderr",
     "output_type": "stream",
     "text": [
      "INFO:root:Percent Predicted Set 0.388%\n",
      "INFO:root:Percent Predicted Set at 0.5 threshold 0.388%\n"
     ]
    },
    {
     "data": {
      "image/png": "[encoded data removed]",
      "text/plain": [
       "<Figure size 432x288 with 1 Axes>"
      ]
     },
     "metadata": {
      "needs_background": "light"
     },
     "output_type": "display_data"
    },
    {
     "data": {
      "image/png": "[encoded data removed]",
      "text/plain": [
       "<Figure size 432x288 with 1 Axes>"
      ]
     },
     "metadata": {
      "needs_background": "light"
     },
     "output_type": "display_data"
    },
    {
     "data": {
      "image/png": "[encoded data removed]",
      "text/plain": [
       "<Figure size 432x288 with 1 Axes>"
      ]
     },
     "metadata": {
      "needs_background": "light"
     },
     "output_type": "display_data"
    },
    {
     "data": {
      "image/png": "[encoded data removed]",
      "text/plain": [
       "<Figure size 432x288 with 1 Axes>"
      ]
     },
     "metadata": {
      "needs_background": "light"
     },
     "output_type": "display_data"
    },
    {
     "name": "stderr",
     "output_type": "stream",
     "text": [
      "INFO:root:Percent Return Actual Set 0.399%\n",
      "INFO:root:Accuracy For Each Class\n",
      "INFO:root:[0.8317757  0.71830986]\n",
      "INFO:root:[[89 18]\n",
      " [20 51]]\n",
      "INFO:root:              precision    recall  f1-score   support\n",
      "\n",
      "           0       0.82      0.83      0.82       107\n",
      "           1       0.74      0.72      0.73        71\n",
      "\n",
      "    accuracy                           0.79       178\n",
      "   macro avg       0.78      0.78      0.78       178\n",
      "weighted avg       0.79      0.79      0.79       178\n",
      "\n",
      "INFO:root:Accuracy For Each Class 0.4 Cut Off for Model\n",
      "INFO:root:[0.8317757  0.71830986]\n",
      "INFO:root:[[89 18]\n",
      " [20 51]]\n",
      "INFO:root:              precision    recall  f1-score   support\n",
      "\n",
      "           0       0.82      0.83      0.82       107\n",
      "           1       0.74      0.72      0.73        71\n",
      "\n",
      "    accuracy                           0.79       178\n",
      "   macro avg       0.78      0.78      0.78       178\n",
      "weighted avg       0.79      0.79      0.79       178\n",
      "\n",
      "INFO:root:AUC 0.8698170330393578\n"
     ]
    },
    {
     "data": {
      "text/plain": [
       "(0.8698170330393578, 0.7750427800447546)"
      ]
     },
     "execution_count": 123,
     "metadata": {},
     "output_type": "execute_result"
    }
   ],
   "source": [
    "#skip\n",
    "\n",
    "cat_vars = ['Pclass', 'Name', 'Sex', 'Age', 'SibSp', 'Parch',\n",
    "            'Ticket', 'Cabin', 'Embarked', 'Fare_Bucket',\n",
    "            'Ticket_Frequency', 'Title', 'Is_Married']\n",
    "cont_vars = ['Fare']\n",
    "y_var = ['Survived']\n",
    "\n",
    "dl_train, tab_train = generate_fastai_pytorch_dataloader(df, cat_vars=cat_vars, cont_vars=cont_vars, \n",
    "                                                         y_var=y_var, y_block=CategoryBlock(), y_range=None,\n",
    "                                                         val_pct=0.2, bs=25, procs = [Categorify, FillMissing, Normalize],\n",
    "                                                         seed=123, splits=None)\n",
    "\n",
    "learn, probs, y, loss = train_fastai_tabular_model(dl = dl_train, \n",
    "                                                   layer_sizes = [50, 10],\n",
    "                                                   metrics = [Recall(), accuracy, F1Score(), RocAucBinary(), BalancedAccuracy()],\n",
    "                                                   epochs = 5,\n",
    "                                                   wd=0.2,\n",
    "                                                   model_name = 'sdsde_test_dl_model_fast.pkl',\n",
    "                                                   save_metric_monitor = 'balanced_accuracy_score',\n",
    "                                                   save_comp = np.greater,\n",
    "                                                   early_metric_monitor = 'balanced_accuracy_score',\n",
    "                                                   early_comp = np.greater,\n",
    "                                                   early_min_delta = 1e-5,\n",
    "                                                   patience = 5,\n",
    "                                                   project_location='projects/model-runs/latest/classification/models/dl/',\n",
    "                                                   y_range = None, # for regression\n",
    "                                                   plot=True)\n",
    "\n",
    "# Uncomment line below to review model arch if you are interested in seeing what a NN arch looks like\n",
    "# learn.summary()\n",
    "\n",
    "binary_classification_reporter_fastai_dl(probs, y=y, threshold=0.5, plot=True, bins=5)"
   ]
  },
  {
   "cell_type": "code",
   "execution_count": 124,
   "metadata": {
    "ExecuteTime": {
     "end_time": "2022-02-04T00:08:18.740570Z",
     "start_time": "2022-02-04T00:08:18.708595Z"
    }
   },
   "outputs": [
    {
     "data": {
      "text/html": [
       "<div>\n",
       "<style scoped>\n",
       "    .dataframe tbody tr th:only-of-type {\n",
       "        vertical-align: middle;\n",
       "    }\n",
       "\n",
       "    .dataframe tbody tr th {\n",
       "        vertical-align: top;\n",
       "    }\n",
       "\n",
       "    .dataframe thead th {\n",
       "        text-align: right;\n",
       "    }\n",
       "</style>\n",
       "<table border=\"1\" class=\"dataframe\">\n",
       "  <thead>\n",
       "    <tr style=\"text-align: right;\">\n",
       "      <th></th>\n",
       "      <th>PassengerId</th>\n",
       "      <th>Pclass</th>\n",
       "      <th>Name</th>\n",
       "      <th>Sex</th>\n",
       "      <th>Age</th>\n",
       "      <th>SibSp</th>\n",
       "      <th>Parch</th>\n",
       "      <th>Ticket</th>\n",
       "      <th>Fare</th>\n",
       "      <th>Cabin</th>\n",
       "      <th>Embarked</th>\n",
       "      <th>Fare_Bucket</th>\n",
       "      <th>Ticket_Frequency</th>\n",
       "      <th>Title</th>\n",
       "      <th>Is_Married</th>\n",
       "    </tr>\n",
       "  </thead>\n",
       "  <tbody>\n",
       "    <tr>\n",
       "      <th>0</th>\n",
       "      <td>892</td>\n",
       "      <td>3</td>\n",
       "      <td>Kelly, Mr. James</td>\n",
       "      <td>male</td>\n",
       "      <td>(30.0, 36.0]</td>\n",
       "      <td>0</td>\n",
       "      <td>0</td>\n",
       "      <td>330911</td>\n",
       "      <td>7.8292</td>\n",
       "      <td>NaN</td>\n",
       "      <td>Q</td>\n",
       "      <td>(7.75, 7.879]</td>\n",
       "      <td>1</td>\n",
       "      <td>Mr</td>\n",
       "      <td>0</td>\n",
       "    </tr>\n",
       "    <tr>\n",
       "      <th>1</th>\n",
       "      <td>893</td>\n",
       "      <td>3</td>\n",
       "      <td>Wilkes, Mrs. James (Ellen Needs)</td>\n",
       "      <td>female</td>\n",
       "      <td>(42.0, 50.0]</td>\n",
       "      <td>1</td>\n",
       "      <td>0</td>\n",
       "      <td>363272</td>\n",
       "      <td>7.0000</td>\n",
       "      <td>NaN</td>\n",
       "      <td>S</td>\n",
       "      <td>(-0.001, 7.25]</td>\n",
       "      <td>1</td>\n",
       "      <td>Mrs</td>\n",
       "      <td>1</td>\n",
       "    </tr>\n",
       "    <tr>\n",
       "      <th>2</th>\n",
       "      <td>894</td>\n",
       "      <td>2</td>\n",
       "      <td>Myles, Mr. Thomas Francis</td>\n",
       "      <td>male</td>\n",
       "      <td>(50.0, 76.0]</td>\n",
       "      <td>0</td>\n",
       "      <td>0</td>\n",
       "      <td>240276</td>\n",
       "      <td>9.6875</td>\n",
       "      <td>NaN</td>\n",
       "      <td>Q</td>\n",
       "      <td>(8.05, 10.5]</td>\n",
       "      <td>1</td>\n",
       "      <td>Mr</td>\n",
       "      <td>0</td>\n",
       "    </tr>\n",
       "    <tr>\n",
       "      <th>3</th>\n",
       "      <td>895</td>\n",
       "      <td>3</td>\n",
       "      <td>Wirz, Mr. Albert</td>\n",
       "      <td>male</td>\n",
       "      <td>(25.0, 27.0]</td>\n",
       "      <td>0</td>\n",
       "      <td>0</td>\n",
       "      <td>315154</td>\n",
       "      <td>8.6625</td>\n",
       "      <td>NaN</td>\n",
       "      <td>S</td>\n",
       "      <td>(8.05, 10.5]</td>\n",
       "      <td>1</td>\n",
       "      <td>Mr</td>\n",
       "      <td>0</td>\n",
       "    </tr>\n",
       "    <tr>\n",
       "      <th>4</th>\n",
       "      <td>896</td>\n",
       "      <td>3</td>\n",
       "      <td>Hirvonen, Mrs. Alexander (Helga E Lindqvist)</td>\n",
       "      <td>female</td>\n",
       "      <td>(20.0, 22.0]</td>\n",
       "      <td>1</td>\n",
       "      <td>1</td>\n",
       "      <td>3101298</td>\n",
       "      <td>12.2875</td>\n",
       "      <td>NaN</td>\n",
       "      <td>S</td>\n",
       "      <td>(10.5, 13.0]</td>\n",
       "      <td>1</td>\n",
       "      <td>Mrs</td>\n",
       "      <td>1</td>\n",
       "    </tr>\n",
       "  </tbody>\n",
       "</table>\n",
       "</div>"
      ],
      "text/plain": [
       "   PassengerId  Pclass                                          Name     Sex  \\\n",
       "0          892       3                              Kelly, Mr. James    male   \n",
       "1          893       3              Wilkes, Mrs. James (Ellen Needs)  female   \n",
       "2          894       2                     Myles, Mr. Thomas Francis    male   \n",
       "3          895       3                              Wirz, Mr. Albert    male   \n",
       "4          896       3  Hirvonen, Mrs. Alexander (Helga E Lindqvist)  female   \n",
       "\n",
       "            Age  SibSp  Parch   Ticket     Fare Cabin Embarked  \\\n",
       "0  (30.0, 36.0]      0      0   330911   7.8292   NaN        Q   \n",
       "1  (42.0, 50.0]      1      0   363272   7.0000   NaN        S   \n",
       "2  (50.0, 76.0]      0      0   240276   9.6875   NaN        Q   \n",
       "3  (25.0, 27.0]      0      0   315154   8.6625   NaN        S   \n",
       "4  (20.0, 22.0]      1      1  3101298  12.2875   NaN        S   \n",
       "\n",
       "      Fare_Bucket  Ticket_Frequency Title  Is_Married  \n",
       "0   (7.75, 7.879]                 1    Mr           0  \n",
       "1  (-0.001, 7.25]                 1   Mrs           1  \n",
       "2    (8.05, 10.5]                 1    Mr           0  \n",
       "3    (8.05, 10.5]                 1    Mr           0  \n",
       "4    (10.5, 13.0]                 1   Mrs           1  "
      ]
     },
     "execution_count": 124,
     "metadata": {},
     "output_type": "execute_result"
    }
   ],
   "source": [
    "#skip\n",
    "\n",
    "df_test = pd.read_csv('test.csv')\n",
    "df_test = feature_create(df_test)\n",
    "df_test.head()"
   ]
  },
  {
   "cell_type": "code",
   "execution_count": 125,
   "metadata": {
    "ExecuteTime": {
     "end_time": "2022-02-04T00:08:18.857346Z",
     "start_time": "2022-02-04T00:08:18.742309Z"
    }
   },
   "outputs": [
    {
     "data": {
      "text/html": [],
      "text/plain": [
       "<IPython.core.display.HTML object>"
      ]
     },
     "metadata": {},
     "output_type": "display_data"
    }
   ],
   "source": [
    "#skip\n",
    "\n",
    "test_dl = learn.dls.test_dl(df_test, with_label=False)\n",
    "probs, _ = learn.get_preds(dl=test_dl)\n",
    "# binary_classification_reporter_fastai_dl(probs, y=results.pred, threshold=0.5, plot=True, bins=5)"
   ]
  },
  {
   "cell_type": "code",
   "execution_count": 133,
   "metadata": {
    "ExecuteTime": {
     "end_time": "2022-02-03T19:24:37.035922Z",
     "start_time": "2022-02-03T19:24:37.031300Z"
    }
   },
   "outputs": [],
   "source": [
    "#skip\n",
    "\n",
    "sub = pd.DataFrame(df_test.PassengerId.values, columns={'PassengerId'})\n",
    "sub['Survived'] = np.where(probs.numpy()[:, 1] > 0.5, 1, 0)\n",
    "\n",
    "sub.to_csv('titantic_sub.csv', index=False)\n",
    "\n",
    "! kaggle competitions submit  -c titanic -f 'titantic_sub.csv' -m 'Auto Fastai'"
   ]
  },
  {
   "cell_type": "markdown",
   "metadata": {},
   "source": [
    "### Tree Approach"
   ]
  },
  {
   "cell_type": "code",
   "execution_count": 141,
   "metadata": {
    "ExecuteTime": {
     "end_time": "2022-02-03T19:29:05.878406Z",
     "start_time": "2022-02-03T19:29:05.865841Z"
    }
   },
   "outputs": [
    {
     "name": "stderr",
     "output_type": "stream",
     "text": [
      "INFO:root:Label size 713\n",
      "INFO:root:Training/Test set shape (713, 15)\n",
      "INFO:root:Validation set shape (178, 15)\n",
      "INFO:root:Label size 178\n"
     ]
    },
    {
     "data": {
      "text/plain": [
       "((713, 15), 713, (178, 15), 178)"
      ]
     },
     "execution_count": 141,
     "metadata": {},
     "output_type": "execute_result"
    }
   ],
   "source": [
    "#skip\n",
    "\n",
    "data_sets = change_dl_to_pandas_df(dl_train)\n",
    "\n",
    "X_train, y_train, X_valid, y_valid = data_sets\n",
    "\n",
    "X_train.shape, len(y_train), X_valid.shape, len(y_valid)"
   ]
  },
  {
   "cell_type": "code",
   "execution_count": 142,
   "metadata": {
    "ExecuteTime": {
     "end_time": "2022-02-03T19:29:14.258965Z",
     "start_time": "2022-02-03T19:29:12.004075Z"
    }
   },
   "outputs": [
    {
     "name": "stdout",
     "output_type": "stream",
     "text": [
      "\r",
      "  0%| | 0/2 [00:00<"
     ]
    },
    {
     "name": "stderr",
     "output_type": "stream",
     "text": [
      "INFO:hyperopt.tpe:build_posterior_wrapper took 0.003505 seconds\n",
      "INFO:hyperopt.tpe:TPE using 0 trials\n"
     ]
    },
    {
     "name": "stdout",
     "output_type": "stream",
     "text": [
      "[12:29:12] WARNING: ../src/learner.cc:223: No visible GPU is found, setting `gpu_id` to -1\n",
      " 50%|▌| 1/2 [00:00<"
     ]
    },
    {
     "name": "stderr",
     "output_type": "stream",
     "text": [
      "INFO:hyperopt.tpe:build_posterior_wrapper took 0.003336 seconds\n",
      "INFO:hyperopt.tpe:TPE using 1/1 trials with best loss 0.070028\n"
     ]
    },
    {
     "name": "stdout",
     "output_type": "stream",
     "text": [
      "[12:29:12] WARNING: ../src/learner.cc:223: No visible GPU is found, setting `gpu_id` to -1\n",
      "100%|█| 2/2 [00:01<\n",
      "XGBClassifier(base_score=None, booster=None, colsample_bylevel=None,\n",
      "              colsample_bynode=None, colsample_bytree=0.28,\n",
      "              enable_categorical=False, eval_metric='auc',\n",
      "              gamma=3.1785978600773737, gpu_id=0, importance_type=None,\n",
      "              interaction_constraints=None, learning_rate=0.08365826921723575,\n",
      "              max_delta_step=None, max_depth=22, min_child_weight=None,\n",
      "              missing=nan, monotone_constraints=None, n_estimators=100,\n",
      "              n_jobs=None, num_parallel_tree=None, objective='binary:logitraw',\n",
      "              predictor=None, random_state=None, reg_alpha=None,\n",
      "              reg_lambda=None, scale_pos_weight=None, subsample=0.75,\n",
      "              tree_method=None, use_label_encoder=False,\n",
      "              validate_parameters=None, ...)\n",
      "[12:29:13] WARNING: ../src/learner.cc:223: No visible GPU is found, setting `gpu_id` to -1\n",
      "[0]\tvalidation_0-auc:0.79946\n",
      "[1]\tvalidation_0-auc:0.81315\n",
      "[2]\tvalidation_0-auc:0.83230\n",
      "[3]\tvalidation_0-auc:0.88779\n",
      "[4]\tvalidation_0-auc:0.87870\n"
     ]
    },
    {
     "name": "stderr",
     "output_type": "stream",
     "text": [
      "INFO:sdsde.utils.traininghelpers:predicting set\n",
      "INFO:sdsde.utils.traininghelpers:Percent Return Predicted Set 0.197%\n",
      "INFO:sdsde.utils.traininghelpers:Percent Return Actual Set 0.399%\n",
      "INFO:sdsde.utils.traininghelpers:Accuracy For Each Class\n",
      "INFO:sdsde.utils.traininghelpers:[0.99065421 0.47887324]\n",
      "INFO:sdsde.utils.traininghelpers:[[106   1]\n",
      " [ 37  34]]\n",
      "INFO:sdsde.utils.traininghelpers:              precision    recall  f1-score   support\n",
      "\n",
      "           0       0.74      0.99      0.85       107\n",
      "           1       0.97      0.48      0.64        71\n",
      "\n",
      "    accuracy                           0.79       178\n",
      "   macro avg       0.86      0.73      0.74       178\n",
      "weighted avg       0.83      0.79      0.77       178\n",
      "\n",
      "INFO:sdsde.utils.traininghelpers:AUC 0.8877846518362512\n"
     ]
    },
    {
     "data": {
      "image/png": "[encoded data removed]",
      "text/plain": [
       "<Figure size 432x288 with 1 Axes>"
      ]
     },
     "metadata": {
      "needs_background": "light"
     },
     "output_type": "display_data"
    },
    {
     "data": {
      "image/png": "[encoded data removed]",
      "text/plain": [
       "<Figure size 432x288 with 1 Axes>"
      ]
     },
     "metadata": {
      "needs_background": "light"
     },
     "output_type": "display_data"
    },
    {
     "data": {
      "image/png": "[encoded data removed]",
      "text/plain": [
       "<Figure size 864x504 with 1 Axes>"
      ]
     },
     "metadata": {
      "needs_background": "light"
     },
     "output_type": "display_data"
    },
    {
     "data": {
      "image/png": "[encoded data removed]",
      "text/plain": [
       "<Figure size 864x504 with 1 Axes>"
      ]
     },
     "metadata": {
      "needs_background": "light"
     },
     "output_type": "display_data"
    }
   ],
   "source": [
    "#skip\n",
    "\n",
    "parameter_space = {\n",
    "    'max_depth': hp.choice('max_depth', np.arange(21, dtype=int) + 3),\n",
    "    'gamma': hp.uniform('gamma', 0, 5),\n",
    "    'learning_rate': hp.loguniform('learning_rate', np.log(0.005), np.log(0.2)),\n",
    "    'colsample_bytree': hp.quniform('colsample_bytree', 0.1, 1, 0.01),\n",
    "    'subsample': hp.quniform('subsample', 0.5, 1, 0.05),\n",
    "    'objective': hp.choice('objective', ['binary:logistic', 'binary:logitraw', 'binary:hinge']),\n",
    "    'eval_metric': hp.choice('eval_metric', ['logloss', 'error', 'auc', 'aucpr', 'map']),\n",
    "    'use_label_encoder': hp.choice('use_label_encoder', [False]),\n",
    "    'gpu_id': hp.choice('gpu_id', [0]),\n",
    "}\n",
    "opt = HpOptBinary(X_train, X_valid, y_train, y_valid, parameter_space=parameter_space)\n",
    "best = opt.optimize(max_evals=2)\n",
    "model = xgb.XGBClassifier(**best)\n",
    "print(model)\n",
    "eval_set  = [(X_valid, y_valid.values)]\n",
    "model.fit(X_train, y_train.values, eval_set= eval_set, eval_metric ='auc', early_stopping_rounds = 2)\n",
    "\n",
    "threshold = 0.5 if model.base_score is None else model.base_score\n",
    "\n",
    "report = binary_classification_reporter_sklearn(m=model, x=X_valid, y=y_valid, threshold=0.5, \n",
    "                                                          plot=True, feature_importance=True)\n",
    "\n",
    "probs, preds, val_auc, val_bal_acc, fi_permutation = report"
   ]
  },
  {
   "cell_type": "code",
   "execution_count": 144,
   "metadata": {
    "ExecuteTime": {
     "end_time": "2022-02-03T19:30:27.690794Z",
     "start_time": "2022-02-03T19:30:27.643613Z"
    }
   },
   "outputs": [],
   "source": [
    "#skip\n",
    "\n",
    "dl_test = tab_train.dnew(df_test)\n",
    "dl_test.process()\n",
    "\n",
    "X_test = dl_test.xs\n",
    "\n",
    "probs = model.predict_proba(X_test)\n",
    "preds = model.predict(X_test)\n",
    "\n",
    "sub = pd.DataFrame(df_test.PassengerId.values, columns={'PassengerId'})\n",
    "sub['Survived'] = np.where(probs[:, 1] > 0.5, 1, 0)\n",
    "\n",
    "sub.to_csv('titantic_sub.csv', index=False)"
   ]
  },
  {
   "cell_type": "code",
   "execution_count": 147,
   "metadata": {
    "ExecuteTime": {
     "end_time": "2022-02-03T19:31:30.998852Z",
     "start_time": "2022-02-03T19:31:27.132654Z"
    },
    "scrolled": true
   },
   "outputs": [
    {
     "name": "stdout",
     "output_type": "stream",
     "text": [
      "100%|██████████████████████████████████████| 2.77k/2.77k [00:01<00:00, 2.01kB/s]\n",
      "Successfully submitted to Titanic - Machine Learning from Disaster"
     ]
    }
   ],
   "source": [
    "#skip\n",
    "\n",
    "! kaggle competitions submit  -c titanic -f 'titantic_sub.csv' -m 'Quick Xgboost'"
   ]
  },
  {
   "cell_type": "code",
   "execution_count": 2,
   "metadata": {
    "ExecuteTime": {
     "end_time": "2022-02-04T00:27:14.438974Z",
     "start_time": "2022-02-04T00:27:14.434989Z"
    }
   },
   "outputs": [],
   "source": [
    "#skip\n",
    "file_list = ['test.csv', 'train.csv', 'titantic_sub.csv', 'titanic.zip', 'gender_submission.csv']\n",
    "for f in file_list:\n",
    "    if os.path.exists(f):\n",
    "        os.unlink(f)"
   ]
  },
  {
   "cell_type": "markdown",
   "metadata": {},
   "source": [
    "## Tabular Playground Series - Oct 2021"
   ]
  },
  {
   "cell_type": "code",
   "execution_count": 127,
   "metadata": {
    "ExecuteTime": {
     "end_time": "2022-02-04T00:08:37.951158Z",
     "start_time": "2022-02-04T00:08:36.672499Z"
    }
   },
   "outputs": [
    {
     "name": "stdout",
     "output_type": "stream",
     "text": [
      "ref                                 deadline             category      reward  teamCount  userHasEntered  \r\n",
      "----------------------------------  -------------------  ----------  --------  ---------  --------------  \r\n",
      "tabular-playground-series-oct-2021  2021-10-31 23:59:00  Playground      Swag       1089            True  \r\n",
      "hhp                                 2013-04-04 07:00:00  Featured    $500,000       1350           False  \r\n"
     ]
    }
   ],
   "source": [
    "#skip\n",
    "\n",
    "! kaggle competitions list -s 'Tabular Playground Series - Oct 2021'"
   ]
  },
  {
   "cell_type": "code",
   "execution_count": 128,
   "metadata": {
    "ExecuteTime": {
     "end_time": "2022-02-04T00:08:40.277429Z",
     "start_time": "2022-02-04T00:08:39.075843Z"
    }
   },
   "outputs": [
    {
     "name": "stdout",
     "output_type": "stream",
     "text": [
      "fileName        date                 description                                status    publicScore  privateScore  \r\n",
      "--------------  -------------------  -----------------------------------------  --------  -----------  ------------  \r\n",
      "playground.csv  2022-02-03 22:49:05  All Columns ROC Metric Follow Data Fastai  complete  0.76327      0.76355       \r\n",
      "playground.csv  2022-02-03 22:32:49  More Data Fastai                           complete  0.76415      0.76402       \r\n",
      "playground.csv  2022-02-03 22:13:39  Very Little Data Fastai                    complete  0.66276      0.66236       \r\n"
     ]
    }
   ],
   "source": [
    "#skip\n",
    "\n",
    "! kaggle competitions submissions  -c tabular-playground-series-oct-2021"
   ]
  },
  {
   "cell_type": "code",
   "execution_count": 4,
   "metadata": {
    "ExecuteTime": {
     "end_time": "2022-02-03T21:49:43.188501Z",
     "start_time": "2022-02-03T21:49:14.962314Z"
    }
   },
   "outputs": [
    {
     "name": "stdout",
     "output_type": "stream",
     "text": [
      "Downloading tabular-playground-series-oct-2021.zip to /home/azureuser/gitlab/sdsde/nbs\n",
      "100%|█████████████████████████████████████▉| 1.28G/1.29G [00:26<00:00, 63.4MB/s]\n",
      "100%|██████████████████████████████████████| 1.29G/1.29G [00:26<00:00, 52.5MB/s]\n"
     ]
    }
   ],
   "source": [
    "#skip\n",
    "\n",
    "!kaggle competitions download -c tabular-playground-series-oct-2021"
   ]
  },
  {
   "cell_type": "code",
   "execution_count": 8,
   "metadata": {
    "ExecuteTime": {
     "end_time": "2022-02-03T21:51:36.056306Z",
     "start_time": "2022-02-03T21:50:59.074818Z"
    },
    "scrolled": false
   },
   "outputs": [
    {
     "name": "stdout",
     "output_type": "stream",
     "text": [
      "Archive:  tabular-playground-series-oct-2021.zip\n",
      "  inflating: sample_submission.csv   \n",
      "  inflating: test.csv                \n",
      "  inflating: train.csv               \n"
     ]
    }
   ],
   "source": [
    "#skip\n",
    "\n",
    "! unzip tabular-playground-series-oct-2021.zip"
   ]
  },
  {
   "cell_type": "markdown",
   "metadata": {},
   "source": [
    "lets try a little bigger problem and see how we do on this type of method"
   ]
  },
  {
   "cell_type": "code",
   "execution_count": 92,
   "metadata": {
    "ExecuteTime": {
     "end_time": "2022-02-03T22:18:39.623680Z",
     "start_time": "2022-02-03T22:18:05.797354Z"
    }
   },
   "outputs": [
    {
     "name": "stderr",
     "output_type": "stream",
     "text": [
      "INFO:__main__:Size of data set: (1000000, 287)\n"
     ]
    },
    {
     "data": {
      "text/html": [
       "<div>\n",
       "<style scoped>\n",
       "    .dataframe tbody tr th:only-of-type {\n",
       "        vertical-align: middle;\n",
       "    }\n",
       "\n",
       "    .dataframe tbody tr th {\n",
       "        vertical-align: top;\n",
       "    }\n",
       "\n",
       "    .dataframe thead th {\n",
       "        text-align: right;\n",
       "    }\n",
       "</style>\n",
       "<table border=\"1\" class=\"dataframe\">\n",
       "  <thead>\n",
       "    <tr style=\"text-align: right;\">\n",
       "      <th></th>\n",
       "      <th>id</th>\n",
       "      <th>f0</th>\n",
       "      <th>f1</th>\n",
       "      <th>f2</th>\n",
       "      <th>f3</th>\n",
       "      <th>f4</th>\n",
       "      <th>f5</th>\n",
       "      <th>f6</th>\n",
       "      <th>f7</th>\n",
       "      <th>f8</th>\n",
       "      <th>...</th>\n",
       "      <th>f276</th>\n",
       "      <th>f277</th>\n",
       "      <th>f278</th>\n",
       "      <th>f279</th>\n",
       "      <th>f280</th>\n",
       "      <th>f281</th>\n",
       "      <th>f282</th>\n",
       "      <th>f283</th>\n",
       "      <th>f284</th>\n",
       "      <th>target</th>\n",
       "    </tr>\n",
       "  </thead>\n",
       "  <tbody>\n",
       "    <tr>\n",
       "      <th>0</th>\n",
       "      <td>0</td>\n",
       "      <td>0.205979</td>\n",
       "      <td>0.410993</td>\n",
       "      <td>0.176775</td>\n",
       "      <td>0.223581</td>\n",
       "      <td>0.423543</td>\n",
       "      <td>0.476140</td>\n",
       "      <td>0.413590</td>\n",
       "      <td>0.612021</td>\n",
       "      <td>0.534873</td>\n",
       "      <td>...</td>\n",
       "      <td>0</td>\n",
       "      <td>1</td>\n",
       "      <td>0</td>\n",
       "      <td>0</td>\n",
       "      <td>0</td>\n",
       "      <td>0</td>\n",
       "      <td>0</td>\n",
       "      <td>0</td>\n",
       "      <td>0</td>\n",
       "      <td>1</td>\n",
       "    </tr>\n",
       "    <tr>\n",
       "      <th>1</th>\n",
       "      <td>1</td>\n",
       "      <td>0.181004</td>\n",
       "      <td>0.473119</td>\n",
       "      <td>0.011734</td>\n",
       "      <td>0.213657</td>\n",
       "      <td>0.619678</td>\n",
       "      <td>0.441593</td>\n",
       "      <td>0.230407</td>\n",
       "      <td>0.686013</td>\n",
       "      <td>0.281971</td>\n",
       "      <td>...</td>\n",
       "      <td>0</td>\n",
       "      <td>1</td>\n",
       "      <td>0</td>\n",
       "      <td>0</td>\n",
       "      <td>0</td>\n",
       "      <td>0</td>\n",
       "      <td>0</td>\n",
       "      <td>0</td>\n",
       "      <td>0</td>\n",
       "      <td>1</td>\n",
       "    </tr>\n",
       "    <tr>\n",
       "      <th>2</th>\n",
       "      <td>2</td>\n",
       "      <td>0.182583</td>\n",
       "      <td>0.307431</td>\n",
       "      <td>0.325950</td>\n",
       "      <td>0.207116</td>\n",
       "      <td>0.605699</td>\n",
       "      <td>0.309695</td>\n",
       "      <td>0.493337</td>\n",
       "      <td>0.751107</td>\n",
       "      <td>0.536272</td>\n",
       "      <td>...</td>\n",
       "      <td>0</td>\n",
       "      <td>0</td>\n",
       "      <td>0</td>\n",
       "      <td>1</td>\n",
       "      <td>1</td>\n",
       "      <td>0</td>\n",
       "      <td>0</td>\n",
       "      <td>0</td>\n",
       "      <td>0</td>\n",
       "      <td>1</td>\n",
       "    </tr>\n",
       "  </tbody>\n",
       "</table>\n",
       "<p>3 rows × 287 columns</p>\n",
       "</div>"
      ],
      "text/plain": [
       "   id        f0        f1        f2        f3        f4        f5        f6  \\\n",
       "0   0  0.205979  0.410993  0.176775  0.223581  0.423543  0.476140  0.413590   \n",
       "1   1  0.181004  0.473119  0.011734  0.213657  0.619678  0.441593  0.230407   \n",
       "2   2  0.182583  0.307431  0.325950  0.207116  0.605699  0.309695  0.493337   \n",
       "\n",
       "         f7        f8  ...  f276  f277  f278  f279  f280  f281  f282  f283  \\\n",
       "0  0.612021  0.534873  ...     0     1     0     0     0     0     0     0   \n",
       "1  0.686013  0.281971  ...     0     1     0     0     0     0     0     0   \n",
       "2  0.751107  0.536272  ...     0     0     0     1     1     0     0     0   \n",
       "\n",
       "   f284  target  \n",
       "0     0       1  \n",
       "1     0       1  \n",
       "2     0       1  \n",
       "\n",
       "[3 rows x 287 columns]"
      ]
     },
     "metadata": {},
     "output_type": "display_data"
    }
   ],
   "source": [
    "#skip\n",
    "\n",
    "df = pd.read_csv('train.csv')\n",
    "logger.info(f'Size of data set: {df.shape}')\n",
    "display(df.head(3))"
   ]
  },
  {
   "cell_type": "code",
   "execution_count": 106,
   "metadata": {
    "ExecuteTime": {
     "end_time": "2022-02-03T22:37:55.508673Z",
     "start_time": "2022-02-03T22:37:55.458297Z"
    }
   },
   "outputs": [],
   "source": [
    "#skip\n",
    "\n",
    "unique_values = df.iloc[:1000].nunique()\n",
    "cat_vars = [col for col in  unique_values.index[unique_values < 10] if col!='target']\n",
    "cont_vars = [col for col in df.columns if col not in cat_vars and col !='id' and col !='target']\n",
    "y_var = ['target']"
   ]
  },
  {
   "cell_type": "code",
   "execution_count": 107,
   "metadata": {
    "ExecuteTime": {
     "end_time": "2022-02-03T22:38:44.126506Z",
     "start_time": "2022-02-03T22:38:12.378168Z"
    }
   },
   "outputs": [
    {
     "name": "stderr",
     "output_type": "stream",
     "text": [
      "INFO:sdsde.modeling.preprocessingfastai:Training Data Size 800000\n",
      "INFO:sdsde.modeling.preprocessingfastai:Validation Data Size 200000\n",
      "INFO:sdsde.modeling.preprocessingfastai:Categorical Variable(s) For Project ['f22', 'f43', 'f242', 'f243', 'f244', 'f245', 'f246', 'f247', 'f248', 'f249', 'f250', 'f251', 'f252', 'f253', 'f254', 'f255', 'f256', 'f257', 'f258', 'f259', 'f260', 'f261', 'f262', 'f263', 'f264', 'f265', 'f266', 'f267', 'f268', 'f269', 'f270', 'f271', 'f272', 'f273', 'f274', 'f275', 'f276', 'f277', 'f278', 'f279', 'f280', 'f281', 'f282', 'f283', 'f284']\n",
      "INFO:sdsde.modeling.preprocessingfastai:Continuous Variable(s) For Project ['f0', 'f1', 'f2', 'f3', 'f4', 'f5', 'f6', 'f7', 'f8', 'f9', 'f10', 'f11', 'f12', 'f13', 'f14', 'f15', 'f16', 'f17', 'f18', 'f19', 'f20', 'f21', 'f23', 'f24', 'f25', 'f26', 'f27', 'f28', 'f29', 'f30', 'f31', 'f32', 'f33', 'f34', 'f35', 'f36', 'f37', 'f38', 'f39', 'f40', 'f41', 'f42', 'f44', 'f45', 'f46', 'f47', 'f48', 'f49', 'f50', 'f51', 'f52', 'f53', 'f54', 'f55', 'f56', 'f57', 'f58', 'f59', 'f60', 'f61', 'f62', 'f63', 'f64', 'f65', 'f66', 'f67', 'f68', 'f69', 'f70', 'f71', 'f72', 'f73', 'f74', 'f75', 'f76', 'f77', 'f78', 'f79', 'f80', 'f81', 'f82', 'f83', 'f84', 'f85', 'f86', 'f87', 'f88', 'f89', 'f90', 'f91', 'f92', 'f93', 'f94', 'f95', 'f96', 'f97', 'f98', 'f99', 'f100', 'f101', 'f102', 'f103', 'f104', 'f105', 'f106', 'f107', 'f108', 'f109', 'f110', 'f111', 'f112', 'f113', 'f114', 'f115', 'f116', 'f117', 'f118', 'f119', 'f120', 'f121', 'f122', 'f123', 'f124', 'f125', 'f126', 'f127', 'f128', 'f129', 'f130', 'f131', 'f132', 'f133', 'f134', 'f135', 'f136', 'f137', 'f138', 'f139', 'f140', 'f141', 'f142', 'f143', 'f144', 'f145', 'f146', 'f147', 'f148', 'f149', 'f150', 'f151', 'f152', 'f153', 'f154', 'f155', 'f156', 'f157', 'f158', 'f159', 'f160', 'f161', 'f162', 'f163', 'f164', 'f165', 'f166', 'f167', 'f168', 'f169', 'f170', 'f171', 'f172', 'f173', 'f174', 'f175', 'f176', 'f177', 'f178', 'f179', 'f180', 'f181', 'f182', 'f183', 'f184', 'f185', 'f186', 'f187', 'f188', 'f189', 'f190', 'f191', 'f192', 'f193', 'f194', 'f195', 'f196', 'f197', 'f198', 'f199', 'f200', 'f201', 'f202', 'f203', 'f204', 'f205', 'f206', 'f207', 'f208', 'f209', 'f210', 'f211', 'f212', 'f213', 'f214', 'f215', 'f216', 'f217', 'f218', 'f219', 'f220', 'f221', 'f222', 'f223', 'f224', 'f225', 'f226', 'f227', 'f228', 'f229', 'f230', 'f231', 'f232', 'f233', 'f234', 'f235', 'f236', 'f237', 'f238', 'f239', 'f240', 'f241']\n",
      "INFO:sdsde.modeling.preprocessingfastai:Dependent Variable(s) For Project ['target']\n",
      "INFO:sdsde.modeling.preprocessingfastai:dataloader being created\n",
      "INFO:sdsde.modeling.preprocessingfastai:   f22  f43  f242  f243  f244  f245  f246  f247  f248  f249  ...      f232  \\\n",
      "0    2    1     2     1     2     2     2     1     1     1  ... -0.201274   \n",
      "2    1    1     1     1     2     2     2     2     1     1  ... -0.197703   \n",
      "3    2    1     2     1     2     2     2     2     1     2  ... -0.184619   \n",
      "4    1    1     1     1     2     2     1     1     1     2  ... -0.230153   \n",
      "5    2    2     1     1     2     2     1     1     2     1  ... -0.167409   \n",
      "\n",
      "       f233      f234      f235      f236      f237      f238      f239  \\\n",
      "0 -0.110012 -0.708209 -0.474115 -0.421335 -0.178389  0.297206 -0.188262   \n",
      "2 -0.087726  0.288215  1.297292 -0.328553 -0.159835 -0.803930 -0.210085   \n",
      "3 -0.089444 -0.756796  0.066297  0.774952 -0.247805 -0.794015 -0.215119   \n",
      "4 -0.051433  0.583393 -0.048253 -0.912552 -0.253044 -0.033758 -0.212978   \n",
      "5 -0.153933 -0.317144 -0.930409 -0.858949 -0.234962  1.301304 -0.242902   \n",
      "\n",
      "       f240      f241  \n",
      "0  1.398902 -0.758302  \n",
      "2  0.143103  0.244478  \n",
      "3 -0.265659 -0.070069  \n",
      "4 -0.752056 -0.050181  \n",
      "5 -0.796531 -1.181962  \n",
      "\n",
      "[5 rows x 285 columns]\n"
     ]
    }
   ],
   "source": [
    "#skip\n",
    "\n",
    "dl_train, tab_train = generate_fastai_pytorch_dataloader(df, cat_vars=cat_vars, cont_vars=cont_vars, \n",
    "                                                         y_var=y_var, y_block=CategoryBlock(), y_range=None,\n",
    "                                                         val_pct=0.2, bs=1025, procs = [Categorify, FillMissing, Normalize],\n",
    "                                                         seed=123, splits=None)"
   ]
  },
  {
   "cell_type": "code",
   "execution_count": 110,
   "metadata": {
    "ExecuteTime": {
     "end_time": "2022-02-03T22:48:08.535583Z",
     "start_time": "2022-02-03T22:43:25.551861Z"
    }
   },
   "outputs": [
    {
     "data": {
      "text/html": [],
      "text/plain": [
       "<IPython.core.display.HTML object>"
      ]
     },
     "metadata": {},
     "output_type": "display_data"
    },
    {
     "name": "stderr",
     "output_type": "stream",
     "text": [
      "INFO:sdsde.modeling.trainingfastai:Learning Rate Suggestion SuggestedLRs(valley=0.002511886414140463)\n"
     ]
    },
    {
     "data": {
      "text/html": [
       "<table border=\"1\" class=\"dataframe\">\n",
       "  <thead>\n",
       "    <tr style=\"text-align: left;\">\n",
       "      <th>epoch</th>\n",
       "      <th>train_loss</th>\n",
       "      <th>valid_loss</th>\n",
       "      <th>recall_score</th>\n",
       "      <th>accuracy</th>\n",
       "      <th>f1_score</th>\n",
       "      <th>roc_auc_score</th>\n",
       "      <th>balanced_accuracy_score</th>\n",
       "      <th>time</th>\n",
       "    </tr>\n",
       "  </thead>\n",
       "  <tbody>\n",
       "    <tr>\n",
       "      <td>0</td>\n",
       "      <td>0.497218</td>\n",
       "      <td>0.486757</td>\n",
       "      <td>0.721554</td>\n",
       "      <td>0.761705</td>\n",
       "      <td>0.751746</td>\n",
       "      <td>0.842479</td>\n",
       "      <td>0.761707</td>\n",
       "      <td>01:28</td>\n",
       "    </tr>\n",
       "    <tr>\n",
       "      <td>1</td>\n",
       "      <td>0.483159</td>\n",
       "      <td>0.478663</td>\n",
       "      <td>0.717064</td>\n",
       "      <td>0.764260</td>\n",
       "      <td>0.752592</td>\n",
       "      <td>0.847402</td>\n",
       "      <td>0.764262</td>\n",
       "      <td>01:28</td>\n",
       "    </tr>\n",
       "    <tr>\n",
       "      <td>2</td>\n",
       "      <td>0.477804</td>\n",
       "      <td>0.476338</td>\n",
       "      <td>0.724074</td>\n",
       "      <td>0.764585</td>\n",
       "      <td>0.754655</td>\n",
       "      <td>0.848321</td>\n",
       "      <td>0.764587</td>\n",
       "      <td>01:28</td>\n",
       "    </tr>\n",
       "  </tbody>\n",
       "</table>"
      ],
      "text/plain": [
       "<IPython.core.display.HTML object>"
      ]
     },
     "metadata": {},
     "output_type": "display_data"
    },
    {
     "name": "stdout",
     "output_type": "stream",
     "text": [
      "Better model found at epoch 0 with balanced_accuracy_score value: 0.7617070076542676.\n"
     ]
    },
    {
     "data": {
      "image/png": "[encoded data removed]",
      "text/plain": [
       "<Figure size 432x288 with 1 Axes>"
      ]
     },
     "metadata": {},
     "output_type": "display_data"
    },
    {
     "name": "stdout",
     "output_type": "stream",
     "text": [
      "Better model found at epoch 1 with balanced_accuracy_score value: 0.7642623599106559.\n",
      "Better model found at epoch 2 with balanced_accuracy_score value: 0.7645870256614675.\n"
     ]
    },
    {
     "data": {
      "text/html": [],
      "text/plain": [
       "<IPython.core.display.HTML object>"
      ]
     },
     "metadata": {},
     "output_type": "display_data"
    },
    {
     "data": {
      "image/png": "[encoded data removed]",
      "text/plain": [
       "<Figure size 432x288 with 1 Axes>"
      ]
     },
     "metadata": {
      "needs_background": "light"
     },
     "output_type": "display_data"
    }
   ],
   "source": [
    "#skip\n",
    "\n",
    "learn, probs, y, loss = train_fastai_tabular_model(dl = dl_train, \n",
    "                                                   layer_sizes = [150, 10],\n",
    "                                                   metrics = [Recall(), accuracy, F1Score(), RocAucBinary(), BalancedAccuracy()],\n",
    "                                                   epochs = 3,\n",
    "                                                   wd=0.2,\n",
    "                                                   model_name = 'sdsde_test_dl_model_fast.pkl',\n",
    "                                                   save_metric_monitor = 'balanced_accuracy_score',\n",
    "                                                   save_comp = np.greater,\n",
    "                                                   early_metric_monitor = 'balanced_accuracy_score',\n",
    "                                                   early_comp = np.greater,\n",
    "                                                   early_min_delta = 1e-5,\n",
    "                                                   patience = 3,\n",
    "                                                   tab_config={'embed_p':0.3},\n",
    "                                                   project_location='projects/model-runs/latest/classification/models/dl/',\n",
    "                                                   y_range = None, # for regression\n",
    "                                                   plot=True)"
   ]
  },
  {
   "cell_type": "code",
   "execution_count": 111,
   "metadata": {
    "ExecuteTime": {
     "end_time": "2022-02-03T22:48:25.846951Z",
     "start_time": "2022-02-03T22:48:23.085245Z"
    },
    "scrolled": false
   },
   "outputs": [
    {
     "name": "stderr",
     "output_type": "stream",
     "text": [
      "INFO:root:Percent Predicted Set 0.46%\n",
      "INFO:root:Percent Predicted Set at 0.5 threshold 0.46%\n"
     ]
    },
    {
     "data": {
      "image/png": "[encoded data removed]",
      "text/plain": [
       "<Figure size 432x288 with 1 Axes>"
      ]
     },
     "metadata": {
      "needs_background": "light"
     },
     "output_type": "display_data"
    },
    {
     "data": {
      "image/png": "[encoded data removed]",
      "text/plain": [
       "<Figure size 432x288 with 1 Axes>"
      ]
     },
     "metadata": {
      "needs_background": "light"
     },
     "output_type": "display_data"
    },
    {
     "data": {
      "image/png": "[encoded data removed]",
      "text/plain": [
       "<Figure size 432x288 with 1 Axes>"
      ]
     },
     "metadata": {
      "needs_background": "light"
     },
     "output_type": "display_data"
    },
    {
     "name": "stderr",
     "output_type": "stream",
     "text": [
      "INFO:root:Percent Return Actual Set 0.5%\n",
      "INFO:root:Accuracy For Each Class\n",
      "INFO:root:[0.80510026 0.7240738 ]\n",
      "INFO:root:[[80506 19489]\n",
      " [27594 72411]]\n",
      "INFO:root:              precision    recall  f1-score   support\n",
      "\n",
      "           0       0.74      0.81      0.77     99995\n",
      "           1       0.79      0.72      0.75    100005\n",
      "\n",
      "    accuracy                           0.76    200000\n",
      "   macro avg       0.77      0.76      0.76    200000\n",
      "weighted avg       0.77      0.76      0.76    200000\n",
      "\n",
      "INFO:root:Accuracy For Each Class 0.4 Cut Off for Model\n",
      "INFO:root:[0.80510026 0.7240738 ]\n",
      "INFO:root:[[80506 19489]\n",
      " [27594 72411]]\n",
      "INFO:root:              precision    recall  f1-score   support\n",
      "\n",
      "           0       0.74      0.81      0.77     99995\n",
      "           1       0.79      0.72      0.75    100005\n",
      "\n",
      "    accuracy                           0.76    200000\n",
      "   macro avg       0.77      0.76      0.76    200000\n",
      "weighted avg       0.77      0.76      0.76    200000\n",
      "\n",
      "INFO:root:AUC 0.8483214033708035\n"
     ]
    },
    {
     "data": {
      "text/plain": [
       "(0.8483214033708035, 0.7645870256614675)"
      ]
     },
     "execution_count": 111,
     "metadata": {},
     "output_type": "execute_result"
    }
   ],
   "source": [
    "#skip\n",
    "\n",
    "# Uncomment line below to review model arch if you are interested in seeing what a NN arch looks like\n",
    "# learn.summary()\n",
    "\n",
    "binary_classification_reporter_fastai_dl(probs, y=y, threshold=0.5, plot=True, bins=5)"
   ]
  },
  {
   "cell_type": "code",
   "execution_count": 112,
   "metadata": {
    "ExecuteTime": {
     "end_time": "2022-02-03T22:48:51.924984Z",
     "start_time": "2022-02-03T22:48:34.700697Z"
    }
   },
   "outputs": [
    {
     "name": "stderr",
     "output_type": "stream",
     "text": [
      "INFO:__main__:Size of data set: (1000000, 287)\n"
     ]
    }
   ],
   "source": [
    "#skip\n",
    "\n",
    "test = pd.read_csv('test.csv')\n",
    "logger.info(f'Size of data set: {df.shape}')"
   ]
  },
  {
   "cell_type": "code",
   "execution_count": 113,
   "metadata": {
    "ExecuteTime": {
     "end_time": "2022-02-03T22:49:02.448402Z",
     "start_time": "2022-02-03T22:48:51.928322Z"
    },
    "scrolled": true
   },
   "outputs": [
    {
     "data": {
      "text/html": [],
      "text/plain": [
       "<IPython.core.display.HTML object>"
      ]
     },
     "metadata": {},
     "output_type": "display_data"
    }
   ],
   "source": [
    "#skip\n",
    "\n",
    "infernece_test = test[cat_vars + cont_vars]\n",
    "test_dl = learn.dls.test_dl(infernece_test.reset_index(drop=True), with_label=False)\n",
    "probs, _ = learn.get_preds(dl=test_dl)"
   ]
  },
  {
   "cell_type": "code",
   "execution_count": 114,
   "metadata": {
    "ExecuteTime": {
     "end_time": "2022-02-03T22:49:03.059809Z",
     "start_time": "2022-02-03T22:49:02.450085Z"
    }
   },
   "outputs": [],
   "source": [
    "#skip\n",
    "\n",
    "vsub = pd.DataFrame(test.id, columns={'id'})\n",
    "\n",
    "sub['target'] = np.where(probs[:, 1] > 0.5, 1, 0)\n",
    "\n",
    "sub.to_csv('playground.csv', index=False)"
   ]
  },
  {
   "cell_type": "code",
   "execution_count": 115,
   "metadata": {
    "ExecuteTime": {
     "end_time": "2022-02-03T22:49:06.185298Z",
     "start_time": "2022-02-03T22:49:03.062360Z"
    }
   },
   "outputs": [
    {
     "name": "stdout",
     "output_type": "stream",
     "text": [
      "100%|██████████████████████████████████████| 4.77M/4.77M [00:00<00:00, 5.80MB/s]\n",
      "Successfully submitted to Tabular Playground Series - Oct 2021"
     ]
    }
   ],
   "source": [
    "#skip\n",
    "\n",
    "! kaggle competitions submit  -c tabular-playground-series-oct-2021 -f 'playground.csv' -m 'All Columns ROC Metric Follow Data Fastai'"
   ]
  },
  {
   "cell_type": "code",
   "execution_count": 117,
   "metadata": {
    "ExecuteTime": {
     "end_time": "2022-02-03T22:49:14.533081Z",
     "start_time": "2022-02-03T22:49:13.330762Z"
    },
    "scrolled": true
   },
   "outputs": [
    {
     "name": "stdout",
     "output_type": "stream",
     "text": [
      "fileName        date                 description                                status    publicScore  privateScore  \r\n",
      "--------------  -------------------  -----------------------------------------  --------  -----------  ------------  \r\n",
      "playground.csv  2022-02-03 22:49:05  All Columns ROC Metric Follow Data Fastai  complete  0.76327      0.76355       \r\n",
      "playground.csv  2022-02-03 22:32:49  More Data Fastai                           complete  0.76415      0.76402       \r\n",
      "playground.csv  2022-02-03 22:13:39  Very Little Data Fastai                    complete  0.66276      0.66236       \r\n"
     ]
    }
   ],
   "source": [
    "#skip\n",
    "\n",
    "! kaggle competitions submissions  -c tabular-playground-series-oct-2021"
   ]
  },
  {
   "cell_type": "code",
   "execution_count": 129,
   "metadata": {
    "ExecuteTime": {
     "end_time": "2022-02-04T00:08:52.269234Z",
     "start_time": "2022-02-04T00:08:52.264504Z"
    }
   },
   "outputs": [],
   "source": [
    "#skip\n",
    "\n",
    "for f in file_list:\n",
    "    if os.path.exists(f):\n",
    "        os.unlink(f)"
   ]
  },
  {
   "cell_type": "markdown",
   "metadata": {},
   "source": [
    "# Other Awesome Tools And Many More In Notebooks"
   ]
  },
  {
   "cell_type": "markdown",
   "metadata": {},
   "source": [
    "or more examples of the functions go into nbs folder each of the notebooks will have more examples of use case scenarios\n",
    "\n",
    "# Azure\n",
    "\n",
    "```python\n",
    "from sdsde.azure.filehandling import *\n",
    "\n",
    "\n",
    "fh = FileHandling(os.environ['connection_str'])\n",
    "fh.download(blob_location = 'noshow_paid.csv.gz',\n",
    "            dest = 'testing',\n",
    "            container_name='testing',\n",
    "            blob_path = '',\n",
    "            directory = None,\n",
    "            recursive = True,\n",
    "            overwrite = True)\n",
    "\n",
    "\n",
    "show_doc(FileHandling)\n",
    "\n",
    "unlink_files(['noshow_paid.csv.gz'], './testing')\n",
    "```\n",
    "\n",
    "## Upload File(s)/Directories to Azure Blob\n",
    "\n",
    "```python\n",
    "\n",
    "show_doc(FileHandling.upload)\n",
    "\n",
    "fh.upload(container_name='sdsdetest10',\n",
    "          file_path='testing/')\n",
    "\n",
    "fh.ls_blob(container_name='sdsdetest10', path='', recursive=True)\n",
    "\n",
    "fh.rm_container(container_name='sdsdetest10')\n",
    "```\n",
    "\n",
    "## Download From Azure Blob\n",
    "```python\n",
    "show_doc(FileHandling.download)\n",
    "\n",
    "assert os.path.exists('testing/noshow_paid.csv.gz') == False, 'File should not be there'\n",
    "fh.download(blob_location = 'noshow_paid.csv.gz',\n",
    "            dest = 'testing',\n",
    "            container_name='testing',\n",
    "            blob_path = '',\n",
    "            directory = None,\n",
    "            recursive = True,\n",
    "            overwrite = True)\n",
    "assert os.path.exists('testing/noshow_paid.csv.gz') == True, 'File should be located here'\n",
    "\n",
    "unlink_files(['noshow_paid.csv.gz'], './testing')\n",
    "```\n",
    "\n",
    "## Utils for Azure Blob\n",
    "\n",
    "```python\n",
    "show_doc(FileHandling.ls_blob)\n",
    "\n",
    "fh.ls_blob(container_name='wunderman', path='', recursive=True)\n",
    "\n",
    "show_doc(FileHandling.ls_containers)\n",
    "\n",
    "fh.ls_containers(name_starts_with='sdsde')\n",
    "\n",
    "show_doc(FileHandling.rm_container)\n",
    "show_doc(FileHandling.create_blob_container)\n",
    "\n",
    "```\n",
    "# Snowflake\n",
    "\n",
    "```python\n",
    "from sdsde.snowflake.query import *\n",
    "\n",
    "show_doc(SnowflakeConnect)\n",
    "\n",
    "sf = SnowflakeConnect(sfAccount=os.environ['sfAccount'],\n",
    "                   sfUser=os.environ['sfUser'],\n",
    "                   sfPswd=os.environ['sfPswd'],\n",
    "                   sfWarehouse=os.environ['sfWarehouse'],\n",
    "                   sfDatabase=os.environ['sfDatabase'],\n",
    "                   sfSchema=os.environ['sfSchema'],\n",
    "                   sfRole=os.environ['sfRole'])\n",
    "\n",
    "show_doc(SnowflakeConnect.execute_file)\n",
    "\n",
    "```\n",
    "\n",
    "## Pandas to Snowflake\n",
    "\n",
    "```python\n",
    "\n",
    "show_doc(SnowflakeConnect.infer_to_snowflake)\n",
    "\n",
    "sf.pandas_to_snowflake(df=df,\n",
    "                        user=os.environ['sfUser'],\n",
    "                        password=os.environ['sfPswd'],\n",
    "                        account=os.environ['sfAccount'],\n",
    "                        warehouse=os.environ['sfWarehouse'],\n",
    "                        database=os.environ['sfDatabase'],\n",
    "                        schema=os.environ['sfSchema'],\n",
    "                        table_name='sdsdesnowflaketest',\n",
    "                        chunk_size = None,\n",
    "                        create_table= True,\n",
    "                        create_statement= yaml.get('create_test_table'))\n",
    "\n",
    "sf.run_str_query(\"SELECT * FROM sdsdesnowflaketest\")\n",
    "\n",
    "show_doc(SnowflakeConnect.infer_to_snowflake)\n",
    "\n",
    "sf.infer_to_snowflake(df,\n",
    "                      table_name='sdsdesnowflaketest',\n",
    "                      if_exists='append')\n",
    "sf.run_str_query(\"SELECT * FROM sdsdesnowflaketest\")\n",
    "\n",
    "```\n",
    "## SQL Execution\n",
    "\n",
    "```python\n",
    "\n",
    "df = sf.execute_file(sql='SELECT * FROM ConnectPOC_DEV.PUBLIC.sdsde_test', query_path='testing/view_test.txt')\n",
    "\n",
    "show_doc(SnowflakeConnect.execute_file_query)\n",
    "\n",
    "df = sf.execute_file_query('testing/view_test.txt')\n",
    "\n",
    "show_doc(SnowflakeConnect.run_str_query)\n",
    "\n",
    "df = sf.run_str_query(\"SELECT * \\\n",
    "                       FROM ConnectPOC_DEV.PUBLIC.DIMCUSTOMER \\\n",
    "                       LIMIT 10;\")\n",
    "```\n",
    "\n",
    "# Utils\n",
    "\n",
    "```python\n",
    "from sdsde.utils.dataframes import *\n",
    "\n",
    "show_doc(join_df)\n",
    "\n",
    "join = join_df(df, df2, left_on=['ecid'])\n",
    "join.head()\n",
    "\n",
    "join = join_df(df, df3, left_on=['ecid', 'state'], how='inner')\n",
    "join.head()\n",
    "```"
   ]
  }
 ],
 "metadata": {
  "kernelspec": {
   "display_name": "Python 3 (ipykernel)",
   "language": "python",
   "name": "python3"
  },
  "language_info": {
   "codemirror_mode": {
    "name": "ipython",
    "version": 3
   },
   "file_extension": ".py",
   "mimetype": "text/x-python",
   "name": "python",
   "nbconvert_exporter": "python",
   "pygments_lexer": "ipython3",
   "version": "3.8.0"
  },
  "toc": {
   "base_numbering": 1,
   "nav_menu": {},
   "number_sections": true,
   "sideBar": true,
   "skip_h1_title": false,
   "title_cell": "Table of Contents",
   "title_sidebar": "Contents",
   "toc_cell": false,
   "toc_position": {},
   "toc_section_display": true,
   "toc_window_display": true
  }
 },
 "nbformat": 4,
 "nbformat_minor": 4
}
