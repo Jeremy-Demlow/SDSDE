{
 "cells": [
  {
   "cell_type": "code",
   "execution_count": 1,
   "id": "dramatic-dimension",
   "metadata": {
    "ExecuteTime": {
     "end_time": "2022-02-04T00:23:45.866668Z",
     "start_time": "2022-02-04T00:23:45.862117Z"
    }
   },
   "outputs": [],
   "source": [
    "#default_exp modeling.preprocessingfastai"
   ]
  },
  {
   "cell_type": "code",
   "execution_count": 2,
   "id": "current-movement",
   "metadata": {
    "ExecuteTime": {
     "end_time": "2022-02-04T00:23:47.632222Z",
     "start_time": "2022-02-04T00:23:46.157495Z"
    }
   },
   "outputs": [],
   "source": [
    "#hide\n",
    "from nbdev.showdoc import *\n",
    "from sdsde import files\n",
    "from sdsde.snowflake.query import SnowflakeConnect\n",
    "from sdsde.wrapper.azurewrapper import blob_puller\n",
    "from IPython.display import display, HTML\n",
    "\n",
    "import json"
   ]
  },
  {
   "cell_type": "markdown",
   "id": "intimate-specification",
   "metadata": {},
   "source": [
    "# Preprocessing Functionality\n",
    "\n",
    "These functions are designed to help with anything in the preprocessing stage of the ML life cycle."
   ]
  },
  {
   "cell_type": "code",
   "execution_count": 3,
   "id": "technical-factory",
   "metadata": {
    "ExecuteTime": {
     "end_time": "2022-02-04T00:23:48.601476Z",
     "start_time": "2022-02-04T00:23:47.634528Z"
    }
   },
   "outputs": [],
   "source": [
    "#export\n",
    "from sdsde.wrapper.azurewrapper import blob_pusher\n",
    "from fastai.tabular.core import Categorify, FillMissing, Normalize, RandomSplitter, range_of, CategoryBlock, torch\n",
    "from fastai.tabular.data import TabularDataLoaders\n",
    "from fastai.tabular.all import distrib_barrier\n",
    "from fastai.tabular.core import TabularPandas\n",
    "from pathlib import Path\n",
    "from fastcore.basics import patch\n",
    "\n",
    "import warnings\n",
    "import pickle\n",
    "import os\n",
    "import logging\n",
    "import pandas as pd\n",
    "import numpy as np\n",
    "\n",
    "\n",
    "logging.basicConfig(level=logging.INFO)\n",
    "logger = logging.getLogger(__name__)"
   ]
  },
  {
   "cell_type": "markdown",
   "id": "increasing-heaven",
   "metadata": {},
   "source": [
    "##  `generate_fastai_pytorch_dataloader`"
   ]
  },
  {
   "cell_type": "markdown",
   "id": "middle-student",
   "metadata": {},
   "source": [
    "For those that don't know Fastai is a great wrapper to allow anyone to use custom models and standard state of the art models and we are going to create a method that will create a standard Tabular Model. A tabular model is anything that we typically see in a .csv file. For example customer information and we want to be able to know will this person buy a passed based on what's in this customer's profile."
   ]
  },
  {
   "cell_type": "markdown",
   "id": "82aadc00",
   "metadata": {},
   "source": [
    "## ``export``"
   ]
  },
  {
   "cell_type": "code",
   "execution_count": 4,
   "id": "dbe1728e",
   "metadata": {
    "ExecuteTime": {
     "end_time": "2022-02-04T00:23:48.608745Z",
     "start_time": "2022-02-04T00:23:48.603623Z"
    }
   },
   "outputs": [],
   "source": [
    "#export\n",
    "@patch\n",
    "def export(self: TabularPandas, fname='export.pkl', pickle_protocol=2):\n",
    "    \"\"\"\n",
    "    Helper function it's a patch to fastai to allow the tabular preprocess\n",
    "    to be pulled out and extraploated onto a new dataset with out the data\n",
    "    this was a huge development.\n",
    "\n",
    "    Args:\n",
    "    * self (TabularPandas): TabularPandas\n",
    "    * fname (str, optional): File Name and Path. Defaults to 'export.pkl'.\n",
    "    * pickle_protocol (int, optional): Defaults to 2.\n",
    "    \"\"\"\n",
    "    old_to = self\n",
    "    self = self.new_empty()\n",
    "    with warnings.catch_warnings():\n",
    "        warnings.simplefilter(\"ignore\")\n",
    "        pickle.dump(self, open(Path(fname), 'wb'), protocol=pickle_protocol)\n",
    "        self = old_to"
   ]
  },
  {
   "cell_type": "markdown",
   "id": "0758e200",
   "metadata": {},
   "source": [
    "## ``load_pandas``"
   ]
  },
  {
   "cell_type": "code",
   "execution_count": 5,
   "id": "4d920c59",
   "metadata": {
    "ExecuteTime": {
     "end_time": "2022-02-04T00:23:49.296999Z",
     "start_time": "2022-02-04T00:23:49.293045Z"
    }
   },
   "outputs": [],
   "source": [
    "#export\n",
    "\n",
    "def load_pandas(fname):\n",
    "    \"Load in a `TabularPandas` object from `fname`\"\n",
    "    distrib_barrier()\n",
    "    res = pickle.load(open(fname, 'rb'))\n",
    "    return res"
   ]
  },
  {
   "cell_type": "markdown",
   "id": "ba275085",
   "metadata": {},
   "source": [
    "## ``generate_fastai_pytorch_dataloader``"
   ]
  },
  {
   "cell_type": "code",
   "execution_count": 6,
   "id": "3325fe32",
   "metadata": {
    "ExecuteTime": {
     "end_time": "2022-02-04T00:23:51.320542Z",
     "start_time": "2022-02-04T00:23:51.309757Z"
    }
   },
   "outputs": [],
   "source": [
    "#export\n",
    "def generate_fastai_pytorch_dataloader(df: pd.DataFrame,\n",
    "                                       cat_vars: list, cont_vars: list, y_var: list,\n",
    "                                       y_block=CategoryBlock(), y_range: float = None,\n",
    "                                       bs: int = 254, val_pct: float = 0.2, seed=None,\n",
    "                                       impute: bool = True, splits: list = None,\n",
    "                                       procs: list = [Categorify, FillMissing, Normalize]):\n",
    "    \"\"\"\n",
    "    Active Development with Sklearn Pipeline, but currently when using the fastai dataloader\n",
    "    we are using the DataLoaderAPI as well as the TabularPandas functions. The reason that\n",
    "    both are in here is to allow the user to export the preprocess process for a model outside\n",
    "    of the Fastai ecosystem.\n",
    "\n",
    "    See notebook for more information on this process.\n",
    "\n",
    "    Args:\n",
    "    * df (pd.DataFrame): [description]\n",
    "    * y_block ([type], optional): [description]. Defaults to CategoryBlock().\n",
    "    * y_range (float, optional): This is giving the range of a prediction for the model and is logged automatically and reported back to the user np.exp. Defaults to None.\n",
    "    * bs (int, optional): Batch Size. Defaults to 254.\n",
    "    * val_pct (float, optional): Validation Size. Defaults to 0.2.\n",
    "    * seed ([type], optional): Seed For Split. Defaults to None.\n",
    "    * impute (bool, optional): Sklearn Impute Function. Defaults to True.\n",
    "    * procs (list, optional): Defaults to most common methods. Defaults to [Categorify, FillMissing, Normalize].\n",
    "\n",
    "    Returns:\n",
    "    * Fastai: dl_train, tab_train\n",
    "    \"\"\"\n",
    "    if splits is None:\n",
    "        splits = RandomSplitter(valid_pct=val_pct, seed=seed)(range_of(df))\n",
    "        logger.info(f'Training Data Size {len(splits[0])}')\n",
    "        logger.info(f'Validation Data Size {len(splits[1])}')\n",
    "    logger.info(f'Categorical Variable(s) For Project {cat_vars}')\n",
    "    logger.info(f'Continuous Variable(s) For Project {cont_vars}')\n",
    "    logger.info(f'Dependent Variable(s) For Project {y_var}')\n",
    "    logger.info('dataloader being created')\n",
    "    if y_range is not None:\n",
    "        max_log_y = np.log(np.max(df[y_var]*y_range))\n",
    "        min_log_y = np.log(np.min(df[y_var]))\n",
    "        y_range = torch.tensor([min_log_y, max_log_y], device=None)\n",
    "        logger.info(f'Model Prediction Range {np.exp(y_range)}')\n",
    "\n",
    "    tab_train = TabularPandas(df, procs=procs, cat_names=cat_vars,\n",
    "                              cont_names=cont_vars,\n",
    "                              y_names=y_var, y_block=y_block,\n",
    "                              splits=splits)\n",
    "\n",
    "    dl_train = (TabularDataLoaders.from_df(df, procs=procs, y_range=y_range,\n",
    "                                           cat_names=cat_vars, cont_names=cont_vars,\n",
    "                                           y_names=y_var, y_block=y_block,\n",
    "                                           valid_idx=splits[1], bs=bs))\n",
    "    logger.info(dl_train.train.xs.head())\n",
    "    return dl_train, tab_train"
   ]
  },
  {
   "cell_type": "code",
   "execution_count": 7,
   "id": "6513d87d",
   "metadata": {
    "ExecuteTime": {
     "end_time": "2022-02-04T00:23:53.456486Z",
     "start_time": "2022-02-04T00:23:53.326512Z"
    }
   },
   "outputs": [
    {
     "name": "stderr",
     "output_type": "stream",
     "text": [
      "INFO:__main__:Training Data Size 342\n",
      "INFO:__main__:Validation Data Size 227\n",
      "INFO:__main__:Categorical Variable(s) For Project []\n",
      "INFO:__main__:Continuous Variable(s) For Project ['mean radius', 'mean texture', 'mean perimeter', 'mean area', 'mean smoothness', 'mean compactness', 'mean concavity', 'mean concave points', 'mean symmetry', 'mean fractal dimension', 'radius error', 'texture error', 'perimeter error', 'area error', 'smoothness error', 'compactness error', 'concavity error', 'concave points error', 'symmetry error', 'fractal dimension error', 'worst radius', 'worst texture', 'worst perimeter', 'worst area', 'worst smoothness', 'worst compactness', 'worst concavity', 'worst concave points', 'worst symmetry', 'worst fractal dimension']\n",
      "INFO:__main__:Dependent Variable(s) For Project ['target']\n",
      "INFO:__main__:dataloader being created\n",
      "INFO:__main__:   mean radius  mean texture  mean perimeter  mean area  mean smoothness  \\\n",
      "0     1.137686     -2.123748        1.322857   1.054084         1.557562   \n",
      "4     1.825645     -1.173991        1.856350   1.960366         0.303168   \n",
      "5    -0.519398     -0.847812       -0.422053  -0.549972         2.209015   \n",
      "8    -0.354886      0.619994       -0.208223  -0.419235         2.174362   \n",
      "9    -0.516406      1.152434       -0.361331  -0.553646         1.571423   \n",
      "\n",
      "   mean compactness  mean concavity  mean concave points  mean symmetry  \\\n",
      "0          3.383333        2.808116             2.625139       2.210591   \n",
      "4          0.574746        1.464008             1.483440      -0.028649   \n",
      "5          1.296289        0.934790             0.858974       0.991857   \n",
      "8          1.746284        1.304716             1.196149       1.957300   \n",
      "9          2.646273        1.849731             0.980080       0.782617   \n",
      "\n",
      "   mean fractal dimension  ...  worst radius  worst texture  worst perimeter  \\\n",
      "0                2.407491  ...      1.899261      -1.380901         2.342211   \n",
      "4               -0.519463  ...      1.299227      -1.489732         1.352595   \n",
      "5                2.027636  ...     -0.194521      -0.322274        -0.137937   \n",
      "8                1.697838  ...     -0.190295       0.828695        -0.052414   \n",
      "9                2.955191  ...     -0.274807       2.469402        -0.313563   \n",
      "\n",
      "   worst area  worst smoothness  worst compactness  worst concavity  \\\n",
      "0    2.014728          1.297757           2.631402         2.089485   \n",
      "4    1.221726          0.226099          -0.312832         0.607877   \n",
      "5   -0.266758          2.028041           1.732024         1.251538   \n",
      "8   -0.270866          1.647775           1.829185         1.268164   \n",
      "9   -0.320696          2.295954           5.139690         3.956816   \n",
      "\n",
      "   worst concave points  worst symmetry  worst fractal dimension  \n",
      "0              2.302193        2.759378                 1.954257  \n",
      "4              0.727490       -0.931451                -0.365903  \n",
      "5              0.905008        1.743039                 2.257221  \n",
      "8              1.393181        2.391450                 1.309767  \n",
      "9              1.622730        2.371652                 6.834744  \n",
      "\n",
      "[5 rows x 30 columns]\n"
     ]
    }
   ],
   "source": [
    "from sklearn import datasets\n",
    "\n",
    "load_breast_cancer = datasets.load_breast_cancer()\n",
    "df = pd.DataFrame(load_breast_cancer['data'], columns=load_breast_cancer['feature_names'])\n",
    "df['target'] = load_breast_cancer['target']\n",
    "\n",
    "dl_train, tab_train = generate_fastai_pytorch_dataloader(df, cat_vars=[], cont_vars=list(load_breast_cancer['feature_names']), \n",
    "                                                         y_var=['target'], y_block=CategoryBlock(), y_range=None,\n",
    "                                                         val_pct=0.4, bs=100, procs = [FillMissing, Normalize],\n",
    "                                                         seed=123, splits=None)"
   ]
  },
  {
   "cell_type": "markdown",
   "id": "b904f0da",
   "metadata": {},
   "source": [
    "## ``prepare_test_pre_model``"
   ]
  },
  {
   "cell_type": "code",
   "execution_count": 8,
   "id": "conservative-ridge",
   "metadata": {
    "ExecuteTime": {
     "end_time": "2022-02-04T00:23:56.181841Z",
     "start_time": "2022-02-04T00:23:56.177032Z"
    }
   },
   "outputs": [],
   "source": [
    "#export\n",
    "def prepare_test_pre_model(df: pd.DataFrame, dl: TabularDataLoaders = None, label: bool = False):\n",
    "    \"\"\"\n",
    "    helper function that takes a tabular dataloader and returns a prepared dataloader for a new\n",
    "    datas set\n",
    "\n",
    "    Args:\n",
    "    * df (pd.DataFrame): data frame\n",
    "    * dl (TabularDataLoaders, optional): tabulardataloader. Defaults to None.\n",
    "    * label (bool, optional): Does the data set have the label of interest. Defaults to False.\n",
    "\n",
    "    Returns:\n",
    "    * TabularDataLoader\n",
    "    \"\"\"\n",
    "    dl_test = dl.test_dl(df, with_label=label)\n",
    "    logger.info(f'dl test {dl_test.xs.head()}')\n",
    "    return dl_test"
   ]
  },
  {
   "cell_type": "code",
   "execution_count": 9,
   "id": "numerical-priest",
   "metadata": {
    "ExecuteTime": {
     "end_time": "2022-02-04T00:23:57.176802Z",
     "start_time": "2022-02-04T00:23:57.158457Z"
    }
   },
   "outputs": [
    {
     "data": {
      "text/markdown": [
       "<h4 id=\"generate_fastai_pytorch_dataloader\" class=\"doc_header\"><code>generate_fastai_pytorch_dataloader</code><a href=\"__main__.py#L2\" class=\"source_link\" style=\"float:right\">[source]</a></h4>\n",
       "\n",
       "> <code>generate_fastai_pytorch_dataloader</code>(**`df`**:`DataFrame`, **`cat_vars`**:`list`, **`cont_vars`**:`list`, **`y_var`**:`list`, **`y_block`**=*`<fastai.data.block.TransformBlock object at 0x7f8b63be62e0>`*, **`y_range`**:`float`=*`None`*, **`bs`**:`int`=*`254`*, **`val_pct`**:`float`=*`0.2`*, **`seed`**=*`None`*, **`impute`**:`bool`=*`True`*, **`splits`**:`list`=*`None`*, **`procs`**:`list`=*`[<class 'fastai.tabular.core.Categorify'>, <class 'fastai.tabular.core.FillMissing'>, <class 'fastai.data.transforms.Normalize'>]`*)\n",
       "\n",
       "Active Development with Sklearn Pipeline, but currently when using the fastai dataloader\n",
       "we are using the DataLoaderAPI as well as the TabularPandas functions. The reason that\n",
       "both are in here is to allow the user to export the preprocess process for a model outside\n",
       "of the Fastai ecosystem.\n",
       "\n",
       "See notebook for more information on this process.\n",
       "\n",
       "Args:\n",
       "* df (pd.DataFrame): [description]\n",
       "* y_block ([type], optional): [description]. Defaults to CategoryBlock().\n",
       "* y_range (float, optional): This is giving the range of a prediction for the model and is logged automatically and reported back to the user np.exp. Defaults to None.\n",
       "* bs (int, optional): Batch Size. Defaults to 254.\n",
       "* val_pct (float, optional): Validation Size. Defaults to 0.2.\n",
       "* seed ([type], optional): Seed For Split. Defaults to None.\n",
       "* impute (bool, optional): Sklearn Impute Function. Defaults to True.\n",
       "* procs (list, optional): Defaults to most common methods. Defaults to [Categorify, FillMissing, Normalize].\n",
       "\n",
       "Returns:\n",
       "* Fastai: dl_train, tab_train"
      ],
      "text/plain": [
       "<IPython.core.display.Markdown object>"
      ]
     },
     "metadata": {},
     "output_type": "display_data"
    }
   ],
   "source": [
    "show_doc(generate_fastai_pytorch_dataloader)"
   ]
  },
  {
   "cell_type": "code",
   "execution_count": 10,
   "id": "royal-poster",
   "metadata": {
    "ExecuteTime": {
     "end_time": "2022-02-04T00:23:58.403887Z",
     "start_time": "2022-02-04T00:23:58.385832Z"
    }
   },
   "outputs": [
    {
     "data": {
      "text/html": [
       "<div>\n",
       "<style scoped>\n",
       "    .dataframe tbody tr th:only-of-type {\n",
       "        vertical-align: middle;\n",
       "    }\n",
       "\n",
       "    .dataframe tbody tr th {\n",
       "        vertical-align: top;\n",
       "    }\n",
       "\n",
       "    .dataframe thead th {\n",
       "        text-align: right;\n",
       "    }\n",
       "</style>\n",
       "<table border=\"1\" class=\"dataframe\">\n",
       "  <thead>\n",
       "    <tr style=\"text-align: right;\">\n",
       "      <th></th>\n",
       "      <th>MAREKTINGZONE</th>\n",
       "      <th>ONLYSINGLERESORTKEY</th>\n",
       "      <th>TOTOALSEASONSSCANNED</th>\n",
       "      <th>MAXSEASONVISITATIONSTREAK</th>\n",
       "    </tr>\n",
       "  </thead>\n",
       "  <tbody>\n",
       "    <tr>\n",
       "      <th>0</th>\n",
       "      <td>CO</td>\n",
       "      <td>1.0</td>\n",
       "      <td>4.0</td>\n",
       "      <td>3</td>\n",
       "    </tr>\n",
       "    <tr>\n",
       "      <th>1</th>\n",
       "      <td>CO</td>\n",
       "      <td>2.0</td>\n",
       "      <td>1.0</td>\n",
       "      <td>3</td>\n",
       "    </tr>\n",
       "    <tr>\n",
       "      <th>2</th>\n",
       "      <td>TX</td>\n",
       "      <td>NaN</td>\n",
       "      <td>0.0</td>\n",
       "      <td>2</td>\n",
       "    </tr>\n",
       "    <tr>\n",
       "      <th>3</th>\n",
       "      <td>CO</td>\n",
       "      <td>NaN</td>\n",
       "      <td>5.0</td>\n",
       "      <td>4</td>\n",
       "    </tr>\n",
       "    <tr>\n",
       "      <th>4</th>\n",
       "      <td>CO</td>\n",
       "      <td>NaN</td>\n",
       "      <td>3.0</td>\n",
       "      <td>1</td>\n",
       "    </tr>\n",
       "    <tr>\n",
       "      <th>5</th>\n",
       "      <td>TX</td>\n",
       "      <td>1.0</td>\n",
       "      <td>NaN</td>\n",
       "      <td>6</td>\n",
       "    </tr>\n",
       "    <tr>\n",
       "      <th>6</th>\n",
       "      <td>CO</td>\n",
       "      <td>NaN</td>\n",
       "      <td>2.0</td>\n",
       "      <td>3</td>\n",
       "    </tr>\n",
       "  </tbody>\n",
       "</table>\n",
       "</div>"
      ],
      "text/plain": [
       "  MAREKTINGZONE  ONLYSINGLERESORTKEY  TOTOALSEASONSSCANNED  \\\n",
       "0            CO                  1.0                   4.0   \n",
       "1            CO                  2.0                   1.0   \n",
       "2            TX                  NaN                   0.0   \n",
       "3            CO                  NaN                   5.0   \n",
       "4            CO                  NaN                   3.0   \n",
       "5            TX                  1.0                   NaN   \n",
       "6            CO                  NaN                   2.0   \n",
       "\n",
       "   MAXSEASONVISITATIONSTREAK  \n",
       "0                          3  \n",
       "1                          3  \n",
       "2                          2  \n",
       "3                          4  \n",
       "4                          1  \n",
       "5                          6  \n",
       "6                          3  "
      ]
     },
     "metadata": {},
     "output_type": "display_data"
    }
   ],
   "source": [
    "feature_dict = dict({\n",
    "    'MAREKTINGZONE': {'variable_type' : 'y',\n",
    "                      'change_dtype': 'no'},\n",
    "    'ONLYSINGLERESORTKEY': {'variable_type' : 'cat',\n",
    "                           'change_dtype': 'yes'},\n",
    "    'TOTOALSEASONSSCANNED': {'variable_type' : 'cont',\n",
    "                            'change_dtype': 'no'},\n",
    "    'MAXSEASONVISITATIONSTREAK': {'variable_type' : 'cont',\n",
    "                                  'change_dtype': 'no'}\n",
    "})\n",
    "\n",
    "df = pd.DataFrame()\n",
    "df = df.append([['CO', 1, 4, 3], ['CO', 2, 1, 3], ['TX', None, 0, 2], ['CO', None, 5, 4], ['CO', None, 3, 1], ['TX', 1, None, 6], ['CO', None, 2, 3]]).copy()\n",
    "df.columns = feature_dict.keys()\n",
    "display(df)"
   ]
  },
  {
   "cell_type": "code",
   "execution_count": 11,
   "id": "present-growth",
   "metadata": {
    "ExecuteTime": {
     "end_time": "2022-02-04T00:23:58.927600Z",
     "start_time": "2022-02-04T00:23:58.839846Z"
    }
   },
   "outputs": [
    {
     "name": "stderr",
     "output_type": "stream",
     "text": [
      "INFO:__main__:Training Data Size 5\n",
      "INFO:__main__:Validation Data Size 2\n",
      "INFO:__main__:Categorical Variable(s) For Project ['ONLYSINGLERESORTKEY']\n",
      "INFO:__main__:Continuous Variable(s) For Project ['TOTOALSEASONSSCANNED', 'MAXSEASONVISITATIONSTREAK']\n",
      "INFO:__main__:Dependent Variable(s) For Project ['MAREKTINGZONE']\n",
      "INFO:__main__:dataloader being created\n",
      "INFO:__main__:   ONLYSINGLERESORTKEY  TOTOALSEASONSSCANNED_na  TOTOALSEASONSSCANNED  \\\n",
      "1                    2                        1             -1.281423   \n",
      "3                    0                        1              1.733690   \n",
      "4                    0                        1              0.226133   \n",
      "5                    1                        2             -0.150756   \n",
      "6                    0                        1             -0.527645   \n",
      "\n",
      "   MAXSEASONVISITATIONSTREAK  \n",
      "1                  -0.246183  \n",
      "3                   0.369274  \n",
      "4                  -1.477098  \n",
      "5                   1.600189  \n",
      "6                  -0.246183  \n"
     ]
    }
   ],
   "source": [
    "dl_train, tab_train = generate_fastai_pytorch_dataloader(df, y_block=CategoryBlock(), \n",
    "                                                         cat_vars = ['ONLYSINGLERESORTKEY'],\n",
    "                                                         cont_vars = ['TOTOALSEASONSSCANNED', 'MAXSEASONVISITATIONSTREAK'],\n",
    "                                                         y_var = ['MAREKTINGZONE'],  y_range=None,\n",
    "                                                         val_pct=0.4, bs=2, procs = [Categorify, FillMissing, Normalize],\n",
    "                                                         seed=123)"
   ]
  },
  {
   "cell_type": "code",
   "execution_count": 12,
   "id": "related-territory",
   "metadata": {
    "ExecuteTime": {
     "end_time": "2022-02-04T00:23:59.120887Z",
     "start_time": "2022-02-04T00:23:59.112472Z"
    }
   },
   "outputs": [],
   "source": [
    "df_test = pd.DataFrame()\n",
    "df_test = df_test.append([['CO', 1, 4, 3], ['CO', 2, 1, 3], ['TX', None, 0, 2], ['CO', None, 5, 4], ['CO', None, 3, 1], ['TX', 1, None, 6], ['CO', None, 2, 3]]).copy()\n",
    "df_test.columns = feature_dict.keys()"
   ]
  },
  {
   "cell_type": "code",
   "execution_count": 13,
   "id": "modified-england",
   "metadata": {
    "ExecuteTime": {
     "end_time": "2022-02-04T00:23:59.659564Z",
     "start_time": "2022-02-04T00:23:59.652309Z"
    }
   },
   "outputs": [],
   "source": [
    "tab_train.export('transformer.pkl')"
   ]
  },
  {
   "cell_type": "code",
   "execution_count": 14,
   "id": "precious-diana",
   "metadata": {
    "ExecuteTime": {
     "end_time": "2022-02-04T00:23:59.860384Z",
     "start_time": "2022-02-04T00:23:59.855257Z"
    }
   },
   "outputs": [],
   "source": [
    "to_load = load_pandas('./transformer.pkl')"
   ]
  },
  {
   "cell_type": "code",
   "execution_count": 15,
   "id": "auburn-badge",
   "metadata": {
    "ExecuteTime": {
     "end_time": "2022-02-04T00:24:00.338925Z",
     "start_time": "2022-02-04T00:24:00.334436Z"
    }
   },
   "outputs": [],
   "source": [
    "to_new = to_load.train.new(df_test)"
   ]
  },
  {
   "cell_type": "code",
   "execution_count": 16,
   "id": "excited-antigua",
   "metadata": {
    "ExecuteTime": {
     "end_time": "2022-02-04T00:24:00.575578Z",
     "start_time": "2022-02-04T00:24:00.557376Z"
    }
   },
   "outputs": [],
   "source": [
    "to_new.process()"
   ]
  },
  {
   "cell_type": "code",
   "execution_count": 17,
   "id": "loved-voluntary",
   "metadata": {
    "ExecuteTime": {
     "end_time": "2022-02-04T00:24:00.819800Z",
     "start_time": "2022-02-04T00:24:00.808607Z"
    }
   },
   "outputs": [
    {
     "data": {
      "text/html": [
       "<div>\n",
       "<style scoped>\n",
       "    .dataframe tbody tr th:only-of-type {\n",
       "        vertical-align: middle;\n",
       "    }\n",
       "\n",
       "    .dataframe tbody tr th {\n",
       "        vertical-align: top;\n",
       "    }\n",
       "\n",
       "    .dataframe thead th {\n",
       "        text-align: right;\n",
       "    }\n",
       "</style>\n",
       "<table border=\"1\" class=\"dataframe\">\n",
       "  <thead>\n",
       "    <tr style=\"text-align: right;\">\n",
       "      <th></th>\n",
       "      <th>ONLYSINGLERESORTKEY</th>\n",
       "      <th>TOTOALSEASONSSCANNED_na</th>\n",
       "      <th>TOTOALSEASONSSCANNED</th>\n",
       "      <th>MAXSEASONVISITATIONSTREAK</th>\n",
       "    </tr>\n",
       "  </thead>\n",
       "  <tbody>\n",
       "    <tr>\n",
       "      <th>0</th>\n",
       "      <td>1</td>\n",
       "      <td>1</td>\n",
       "      <td>0.979912</td>\n",
       "      <td>-0.246183</td>\n",
       "    </tr>\n",
       "    <tr>\n",
       "      <th>1</th>\n",
       "      <td>2</td>\n",
       "      <td>1</td>\n",
       "      <td>-1.281423</td>\n",
       "      <td>-0.246183</td>\n",
       "    </tr>\n",
       "    <tr>\n",
       "      <th>2</th>\n",
       "      <td>0</td>\n",
       "      <td>1</td>\n",
       "      <td>-2.035201</td>\n",
       "      <td>-0.861640</td>\n",
       "    </tr>\n",
       "    <tr>\n",
       "      <th>3</th>\n",
       "      <td>0</td>\n",
       "      <td>1</td>\n",
       "      <td>1.733690</td>\n",
       "      <td>0.369274</td>\n",
       "    </tr>\n",
       "    <tr>\n",
       "      <th>4</th>\n",
       "      <td>0</td>\n",
       "      <td>1</td>\n",
       "      <td>0.226133</td>\n",
       "      <td>-1.477098</td>\n",
       "    </tr>\n",
       "  </tbody>\n",
       "</table>\n",
       "</div>"
      ],
      "text/plain": [
       "   ONLYSINGLERESORTKEY  TOTOALSEASONSSCANNED_na  TOTOALSEASONSSCANNED  \\\n",
       "0                    1                        1              0.979912   \n",
       "1                    2                        1             -1.281423   \n",
       "2                    0                        1             -2.035201   \n",
       "3                    0                        1              1.733690   \n",
       "4                    0                        1              0.226133   \n",
       "\n",
       "   MAXSEASONVISITATIONSTREAK  \n",
       "0                  -0.246183  \n",
       "1                  -0.246183  \n",
       "2                  -0.861640  \n",
       "3                   0.369274  \n",
       "4                  -1.477098  "
      ]
     },
     "execution_count": 17,
     "metadata": {},
     "output_type": "execute_result"
    }
   ],
   "source": [
    "to_new.xs.head()"
   ]
  },
  {
   "cell_type": "markdown",
   "id": "quiet-block",
   "metadata": {},
   "source": [
    "Even though there is a con with this method using the Fastai Dataloader method is that you have to bring in potentially a very large data frame into memory to and I have a question on the forum that will see if we can take the dataset out and save the preprocessing piece, but I am not sure this will happen time will tell. So if you don't plan on using a Tabular Learner or a custom Tabluar Model then this method shouldn't be used in its current state"
   ]
  },
  {
   "cell_type": "code",
   "execution_count": 18,
   "id": "vanilla-theorem",
   "metadata": {
    "ExecuteTime": {
     "end_time": "2022-02-04T00:24:04.287671Z",
     "start_time": "2022-02-04T00:24:04.282107Z"
    }
   },
   "outputs": [
    {
     "data": {
      "text/plain": [
       "Index(['MAREKTINGZONE', 'ONLYSINGLERESORTKEY', 'TOTOALSEASONSSCANNED',\n",
       "       'MAXSEASONVISITATIONSTREAK'],\n",
       "      dtype='object')"
      ]
     },
     "execution_count": 18,
     "metadata": {},
     "output_type": "execute_result"
    }
   ],
   "source": [
    "df_test.columns"
   ]
  },
  {
   "cell_type": "code",
   "execution_count": 19,
   "id": "hydraulic-county",
   "metadata": {
    "ExecuteTime": {
     "end_time": "2022-02-04T00:24:04.574135Z",
     "start_time": "2022-02-04T00:24:04.567733Z"
    }
   },
   "outputs": [],
   "source": [
    "df_test = pd.DataFrame()\n",
    "df_test = df_test.append([[np.NaN, np.NaN, 20], [10, 1, 3], [np.NaN, np.NaN, 4]]).copy()\n",
    "df_test.columns = ['ONLYSINGLERESORTKEY', 'TOTOALSEASONSSCANNED', 'MAXSEASONVISITATIONSTREAK']"
   ]
  },
  {
   "cell_type": "code",
   "execution_count": 20,
   "id": "behind-investor",
   "metadata": {
    "ExecuteTime": {
     "end_time": "2022-02-04T00:24:05.015466Z",
     "start_time": "2022-02-04T00:24:05.010782Z"
    }
   },
   "outputs": [],
   "source": [
    "to_new = to_load.train.new(df_test)"
   ]
  },
  {
   "cell_type": "code",
   "execution_count": 21,
   "id": "polyphonic-socket",
   "metadata": {
    "ExecuteTime": {
     "end_time": "2022-02-04T00:24:05.348751Z",
     "start_time": "2022-02-04T00:24:05.333469Z"
    }
   },
   "outputs": [],
   "source": [
    "to_new.process()"
   ]
  },
  {
   "cell_type": "code",
   "execution_count": 22,
   "id": "coupled-minute",
   "metadata": {
    "ExecuteTime": {
     "end_time": "2022-02-04T00:24:05.830630Z",
     "start_time": "2022-02-04T00:24:05.819392Z"
    }
   },
   "outputs": [
    {
     "data": {
      "text/html": [
       "<div>\n",
       "<style scoped>\n",
       "    .dataframe tbody tr th:only-of-type {\n",
       "        vertical-align: middle;\n",
       "    }\n",
       "\n",
       "    .dataframe tbody tr th {\n",
       "        vertical-align: top;\n",
       "    }\n",
       "\n",
       "    .dataframe thead th {\n",
       "        text-align: right;\n",
       "    }\n",
       "</style>\n",
       "<table border=\"1\" class=\"dataframe\">\n",
       "  <thead>\n",
       "    <tr style=\"text-align: right;\">\n",
       "      <th></th>\n",
       "      <th>ONLYSINGLERESORTKEY</th>\n",
       "      <th>TOTOALSEASONSSCANNED_na</th>\n",
       "      <th>TOTOALSEASONSSCANNED</th>\n",
       "      <th>MAXSEASONVISITATIONSTREAK</th>\n",
       "    </tr>\n",
       "  </thead>\n",
       "  <tbody>\n",
       "    <tr>\n",
       "      <th>0</th>\n",
       "      <td>0</td>\n",
       "      <td>2</td>\n",
       "      <td>-0.150756</td>\n",
       "      <td>10.216593</td>\n",
       "    </tr>\n",
       "    <tr>\n",
       "      <th>1</th>\n",
       "      <td>0</td>\n",
       "      <td>1</td>\n",
       "      <td>-1.281423</td>\n",
       "      <td>-0.246183</td>\n",
       "    </tr>\n",
       "    <tr>\n",
       "      <th>2</th>\n",
       "      <td>0</td>\n",
       "      <td>2</td>\n",
       "      <td>-0.150756</td>\n",
       "      <td>0.369274</td>\n",
       "    </tr>\n",
       "  </tbody>\n",
       "</table>\n",
       "</div>"
      ],
      "text/plain": [
       "   ONLYSINGLERESORTKEY  TOTOALSEASONSSCANNED_na  TOTOALSEASONSSCANNED  \\\n",
       "0                    0                        2             -0.150756   \n",
       "1                    0                        1             -1.281423   \n",
       "2                    0                        2             -0.150756   \n",
       "\n",
       "   MAXSEASONVISITATIONSTREAK  \n",
       "0                  10.216593  \n",
       "1                  -0.246183  \n",
       "2                   0.369274  "
      ]
     },
     "execution_count": 22,
     "metadata": {},
     "output_type": "execute_result"
    }
   ],
   "source": [
    "to_new.xs.head()"
   ]
  },
  {
   "cell_type": "code",
   "execution_count": 23,
   "id": "needed-peace",
   "metadata": {
    "ExecuteTime": {
     "end_time": "2022-02-04T00:24:06.605609Z",
     "start_time": "2022-02-04T00:24:06.584431Z"
    }
   },
   "outputs": [
    {
     "name": "stderr",
     "output_type": "stream",
     "text": [
      "INFO:__main__:dl test    ONLYSINGLERESORTKEY  TOTOALSEASONSSCANNED_na  TOTOALSEASONSSCANNED  \\\n",
      "0                    0                        2             -0.150756   \n",
      "1                    0                        1             -1.281423   \n",
      "2                    0                        2             -0.150756   \n",
      "\n",
      "   MAXSEASONVISITATIONSTREAK  \n",
      "0                  10.216593  \n",
      "1                  -0.246183  \n",
      "2                   0.369274  \n"
     ]
    }
   ],
   "source": [
    "dl_test = prepare_test_pre_model(df=df_test, dl=dl_train, label=False)"
   ]
  },
  {
   "cell_type": "code",
   "execution_count": 24,
   "id": "laden-population",
   "metadata": {
    "ExecuteTime": {
     "end_time": "2022-02-04T00:24:10.017124Z",
     "start_time": "2022-02-04T00:24:10.013449Z"
    }
   },
   "outputs": [],
   "source": [
    "from sdsde.azure.filehandling import unlink_files\n",
    "unlink_files(['./transformer.pkl'])"
   ]
  },
  {
   "cell_type": "markdown",
   "id": "attached-arctic",
   "metadata": {},
   "source": [
    "### ``save_fastai_preprocess_to_data_lake``"
   ]
  },
  {
   "cell_type": "code",
   "execution_count": 25,
   "id": "planned-difference",
   "metadata": {
    "ExecuteTime": {
     "end_time": "2022-02-04T00:24:10.937360Z",
     "start_time": "2022-02-04T00:24:10.932077Z"
    }
   },
   "outputs": [],
   "source": [
    "#export\n",
    "def save_fastai_preprocess_to_data_lake(preprocesser, file_name: str, path: str,\n",
    "                                        container: str, connection_str: str, overwrite: bool = False):\n",
    "    \"\"\"\n",
    "    push preprocess object to azure datalake\n",
    "\n",
    "    Args:\n",
    "    * preprocesser (object): preprocessor\n",
    "    * file_name (str): filename\n",
    "    * path (str): path to save file\n",
    "    * container (str): container name\n",
    "    * connection_str (str): azure connection string\n",
    "    * overwrite (bool, optional): overwrite files. Defaults to False.\n",
    "    \"\"\"\n",
    "    logger.info(f'Pushing Fastai Preprocesser Object to Azure: {os.path.join(path, file_name)}')\n",
    "    preprocesser.export(file_name)\n",
    "    blob_pusher(container_name=container,\n",
    "                connection_str=connection_str,\n",
    "                file_path=[file_name],\n",
    "                blob_dest=[path],\n",
    "                overwrite=overwrite)\n",
    "    os.unlink(file_name)"
   ]
  },
  {
   "cell_type": "markdown",
   "id": "distinguished-universal",
   "metadata": {},
   "source": [
    "### ```save_dataloader_to_data_lake```"
   ]
  },
  {
   "cell_type": "code",
   "execution_count": 26,
   "id": "continued-aggregate",
   "metadata": {
    "ExecuteTime": {
     "end_time": "2022-02-04T00:24:11.595165Z",
     "start_time": "2022-02-04T00:24:11.589894Z"
    }
   },
   "outputs": [],
   "source": [
    "#export\n",
    "\n",
    "\n",
    "def save_dataloader_to_data_lake(dl, file_name: str, path: str,\n",
    "                                 container: str, connection_str: str, overwrite: bool = False):\n",
    "    \"\"\"\n",
    "    push preprocess object to azure datalake\n",
    "\n",
    "    Args:\n",
    "    * dl (object): dataloader\n",
    "    * file_name (str): filename\n",
    "    * path (str): path to save file\n",
    "    * container (str): container name\n",
    "    * connection_str (str): azure connection string\n",
    "    * overwrite (bool, optional): overwrite files. Defaults to False.\n",
    "    \"\"\"\n",
    "    logger.info(f'Pushing DataLoader Object to Azure: {os.path.join(path, file_name)}')\n",
    "    torch.save(dl, file_name)\n",
    "    blob_pusher(container_name=container,\n",
    "                connection_str=connection_str,\n",
    "                file_path=[file_name],\n",
    "                blob_dest=[path],\n",
    "                overwrite=overwrite)\n",
    "    os.unlink(file_name)"
   ]
  },
  {
   "cell_type": "markdown",
   "id": "toxic-september",
   "metadata": {},
   "source": [
    "# Create"
   ]
  },
  {
   "cell_type": "code",
   "execution_count": null,
   "id": "italian-johns",
   "metadata": {
    "ExecuteTime": {
     "start_time": "2022-02-04T00:24:12.410Z"
    }
   },
   "outputs": [
    {
     "name": "stdout",
     "output_type": "stream",
     "text": [
      "Converted 01_azure.ipynb.\n",
      "Converted 02_utils_dataframes.ipynb.\n",
      "Converted 02_utils_parseyaml.ipynb.\n",
      "Converted 02_utils_stfp.ipynb.\n",
      "Converted 02_utils_traininghelpers.ipynb.\n",
      "Converted 02_utils_traininghelpers_fastai.ipynb.\n",
      "Converted 03_dstools_preparedata.ipynb.\n",
      "Converted 04_snowflake_copyinto.ipynb.\n",
      "Converted 04_snowflake_copyinto2.ipynb.\n",
      "Converted 04_snowflake_query.ipynb.\n",
      "Converted 05_azure_wrappers.ipynb.\n"
     ]
    }
   ],
   "source": [
    "#hide\n",
    "from nbdev.export import notebook2script\n",
    "notebook2script()"
   ]
  },
  {
   "cell_type": "code",
   "execution_count": null,
   "id": "8619c8f1",
   "metadata": {},
   "outputs": [],
   "source": []
  }
 ],
 "metadata": {
  "kernelspec": {
   "display_name": "Python 3 (ipykernel)",
   "language": "python",
   "name": "python3"
  },
  "language_info": {
   "codemirror_mode": {
    "name": "ipython",
    "version": 3
   },
   "file_extension": ".py",
   "mimetype": "text/x-python",
   "name": "python",
   "nbconvert_exporter": "python",
   "pygments_lexer": "ipython3",
   "version": "3.8.0"
  },
  "toc": {
   "base_numbering": 1,
   "nav_menu": {},
   "number_sections": true,
   "sideBar": true,
   "skip_h1_title": false,
   "title_cell": "Table of Contents",
   "title_sidebar": "Contents",
   "toc_cell": false,
   "toc_position": {},
   "toc_section_display": true,
   "toc_window_display": false
  }
 },
 "nbformat": 4,
 "nbformat_minor": 5
}
